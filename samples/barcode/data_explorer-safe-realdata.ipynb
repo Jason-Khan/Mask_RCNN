{
 "cells": [
  {
   "cell_type": "markdown",
   "metadata": {},
   "source": [
    "## Y-Net on synthetic dataset"
   ]
  },
  {
   "cell_type": "code",
   "execution_count": 1,
   "metadata": {},
   "outputs": [],
   "source": [
    "# !pip install Shapely\n",
    "# !pip install imutils"
   ]
  },
  {
   "cell_type": "code",
   "execution_count": 2,
   "metadata": {},
   "outputs": [],
   "source": [
    "import json\n",
    "import os\n",
    "import numpy as np\n",
    "np.random.seed(42)\n",
    "import cv2 as cv\n",
    "from matplotlib import pyplot as plt\n",
    "from matplotlib.colors import NoNorm\n",
    "import random\n",
    "import PIL\n",
    "from PIL import Image\n",
    "import argparse\n",
    "import imutils\n",
    "from skimage.morphology import convex_hull_image, watershed\n",
    "from skimage import data, img_as_float\n",
    "from skimage.util import invert\n",
    "from skimage.io import imsave\n",
    "import contextlib\n",
    "import math\n",
    "from skimage import io\n",
    "from tqdm import tqdm\n",
    "import time\n",
    "from skimage import measure                        # (pip install scikit-image)\n",
    "from shapely.geometry import Polygon, MultiPolygon, Point\n",
    "import pandas as pd\n",
    "from sklearn import metrics\n",
    "from skimage.feature import peak_local_max\n",
    "from scipy import ndimage\n",
    "from tqdm.notebook import tqdm\n",
    "from copy import deepcopy\n",
    "import seaborn as sns\n",
    "import pickle\n",
    "import pprint\n",
    "pp = pprint.PrettyPrinter(indent=2)\n",
    "%matplotlib inline"
   ]
  },
  {
   "cell_type": "code",
   "execution_count": 3,
   "metadata": {},
   "outputs": [
    {
     "name": "stdout",
     "output_type": "stream",
     "text": [
      "WARNING:tensorflow:From /home/ec2-user/anaconda3/envs/tensorflow_p36/lib/python3.6/site-packages/tensorflow_core/__init__.py:1473: The name tf.estimator.inputs is deprecated. Please use tf.compat.v1.estimator.inputs instead.\n",
      "\n"
     ]
    },
    {
     "name": "stderr",
     "output_type": "stream",
     "text": [
      "Using TensorFlow backend.\n"
     ]
    }
   ],
   "source": [
    "import tensorflow as tf\n",
    "from tensorflow import keras\n",
    "from tensorflow.keras import layers\n",
    "from tensorflow.keras import Model\n",
    "from tensorflow.keras.callbacks import TensorBoard\n",
    "from tensorflow.keras.utils import CustomObjectScope\n",
    "from keras import backend as K\n",
    "from tensorflow.keras.metrics import Precision, Recall\n",
    "#turn off tf warnings\n",
    "tf.logging.set_verbosity(tf.logging.ERROR)"
   ]
  },
  {
   "cell_type": "markdown",
   "metadata": {},
   "source": [
    "### Set GPU"
   ]
  },
  {
   "cell_type": "code",
   "execution_count": 5,
   "metadata": {},
   "outputs": [
    {
     "name": "stdout",
     "output_type": "stream",
     "text": [
      "Device mapping:\n",
      "/job:localhost/replica:0/task:0/device:XLA_CPU:0 -> device: XLA_CPU device\n",
      "/job:localhost/replica:0/task:0/device:XLA_GPU:0 -> device: XLA_GPU device\n",
      "/job:localhost/replica:0/task:0/device:GPU:0 -> device: 0, name: Tesla V100-SXM2-16GB, pci bus id: 0000:00:1b.0, compute capability: 7.0\n",
      "\n"
     ]
    },
    {
     "data": {
      "text/plain": [
       "<tensorflow.python.client.session.Session at 0x7fd1b2f7a518>"
      ]
     },
     "execution_count": 5,
     "metadata": {},
     "output_type": "execute_result"
    }
   ],
   "source": [
    "# Specify which GPU(s) to us3\n",
    "os.environ[\"CUDA_VISIBLE_DEVICES\"] = \"0\"  \n",
    "# On CPU/GPU placement\n",
    "config = tf.compat.v1.ConfigProto(allow_soft_placement=True, log_device_placement=True)\n",
    "config.gpu_options.allow_growth = True\n",
    "tf.compat.v1.Session(config=config)"
   ]
  },
  {
   "cell_type": "markdown",
   "metadata": {},
   "source": [
    "### Set visualization functions"
   ]
  },
  {
   "cell_type": "code",
   "execution_count": 3,
   "metadata": {},
   "outputs": [],
   "source": [
    "# Display data \n",
    "def show_images3 (Im1, Im2, Im3, title1=\"\", title2 = \"\", title3 = \"\"):\n",
    "    display_window_edge_size = 15\n",
    "    width = display_window_edge_size\n",
    "    height = display_window_edge_size\n",
    "    fig = plt.figure(figsize=[width,height])\n",
    "    axis1 = fig.add_subplot(131)\n",
    "    axis1.imshow(Im1, cmap=\"gray\")\n",
    "    axis1.set(xticks=[],yticks=[],title =title1)\n",
    "\n",
    "    axis2 = fig.add_subplot(132)\n",
    "    axis2.imshow(Im2, cmap=\"gray\")\n",
    "    axis2.set(xticks=[],yticks=[],title =title2)\n",
    "    \n",
    "    axis2 = fig.add_subplot(133)\n",
    "    axis2.imshow(Im3, cmap=\"gray\")\n",
    "    axis2.set(xticks=[],yticks=[],title =title3)\n",
    "    \n",
    "def show_images3_heatmap (Im1, Im2, Im3, title1=\"\", title2 = \"\", title3 = \"\"):\n",
    "    display_window_edge_size = 15\n",
    "    width = display_window_edge_size\n",
    "    height = display_window_edge_size\n",
    "    fig = plt.figure(figsize=[width,height])\n",
    "    axis1 = fig.add_subplot(131)\n",
    "    axis1.imshow(Im1, cmap=\"hot\")\n",
    "    axis1.set(xticks=[],yticks=[],title =title1)\n",
    "\n",
    "    axis2 = fig.add_subplot(132)\n",
    "    axis2.imshow(Im2, cmap=\"hot\")\n",
    "    axis2.set(xticks=[],yticks=[],title =title2)\n",
    "    \n",
    "    axis2 = fig.add_subplot(133)\n",
    "    axis2.imshow(Im3, cmap=\"hot\")\n",
    "    axis2.set(xticks=[],yticks=[],title =title3)\n",
    "    \n",
    "    \n",
    "def show_images2 (Im1, Im2, title1=\"\", title2 = \"\"):\n",
    "    display_window_edge_size = 15\n",
    "    width = display_window_edge_size\n",
    "    height = display_window_edge_size\n",
    "    fig = plt.figure(figsize=[width,height])\n",
    "    axis1 = fig.add_subplot(121)\n",
    "    axis1.imshow(Im1, cmap=\"gray\")\n",
    "    axis1.set(xticks=[],yticks=[],title =title1)\n",
    "\n",
    "    axis2 = fig.add_subplot(122)\n",
    "    axis2.imshow(Im2, cmap=\"gray\")\n",
    "    axis2.set(xticks=[],yticks=[],title =title2)\n",
    "    \n",
    "def show_images2_heatmap (Im1, Im2, title1=\"\", title2 = \"\"):\n",
    "    display_window_edge_size = 15\n",
    "    width = display_window_edge_size\n",
    "    height = display_window_edge_size\n",
    "    fig = plt.figure(figsize=[width,height])\n",
    "    axis1 = fig.add_subplot(121)\n",
    "    axis1.imshow(Im1, cmap=\"hot\")\n",
    "    axis1.set(xticks=[],yticks=[],title =title1)\n",
    "\n",
    "    axis2 = fig.add_subplot(122)\n",
    "    axis2.imshow(Im2, cmap=\"hot\")\n",
    "    axis2.set(xticks=[],yticks=[],title =title2)\n",
    "    \n",
    "    \n",
    "def show_images2_overlayed (Im1, Im1_mask, Im2, Im2_mask, Im3,Im3_mask, title1=\"\", title2 = \"\", title3 = \"\"):\n",
    "    a = 0.5 #transparency parameter\n",
    "    display_window_edge_size = 15\n",
    "    width = display_window_edge_size\n",
    "    height = display_window_edge_size\n",
    "    fig = plt.figure(figsize=[width,height])\n",
    "    axis1 = fig.add_subplot(131)\n",
    "    axis1.imshow(Im1, cmap=\"gray\")\n",
    "    axis1.imshow(Im1_mask,alpha=a)\n",
    "    axis1.set(xticks=[],yticks=[],title =title1)\n",
    "\n",
    "    axis2 = fig.add_subplot(132)\n",
    "    axis2.imshow(Im2, cmap=\"gray\")\n",
    "    axis2.imshow(Im2_mask, alpha =a)\n",
    "    axis2.set(xticks=[],yticks=[],title =title2)\n",
    "    \n",
    "    axis2 = fig.add_subplot(133)\n",
    "    axis2.imshow(Im3, cmap=\"gray\")\n",
    "    axis2.imshow(Im3_mask, alpha = a)\n",
    "    axis2.set(xticks=[],yticks=[],title =title3)\n",
    "    \n",
    "    \n",
    "def show_images1_overlayed (Im1, Im1_mask, title1=\"\"):\n",
    "    a = 0.5 #transparency parameter\n",
    "    display_window_edge_size = 15\n",
    "    width = display_window_edge_size\n",
    "    height = display_window_edge_size\n",
    "    fig = plt.figure(figsize=[width,height])\n",
    "    plt.imshow(Im1, cmap=\"gray\")\n",
    "    plt.imshow(Im1_mask,alpha=a)\n",
    "    #axis1.set(xticks=[],yticks=[],title =title1)\n",
    "\n",
    "    \n",
    "def show_images1 (Im1, title1=\"\"):\n",
    "    display_window_edge_size = 15\n",
    "    width = display_window_edge_size\n",
    "    height = display_window_edge_size\n",
    "    fig = plt.figure(figsize=[width,height])\n",
    "    plt.imshow(Im1, cmap=\"gray\")\n",
    "    plt.xticks=[]\n",
    "    plt.yticks=[]\n",
    "    plt.title =title1\n",
    "    \n",
    "def show_images1_heatmap (Im1, title1=\"\"):\n",
    "    display_window_edge_size = 15\n",
    "    width = display_window_edge_size\n",
    "    height = display_window_edge_size\n",
    "    fig = plt.figure(figsize=[width,height])\n",
    "    plt.imshow(Im1, cmap=\"hot\")\n",
    "    plt.xticks=[]\n",
    "    plt.yticks=[]\n",
    "    plt.title =title1"
   ]
  },
  {
   "cell_type": "markdown",
   "metadata": {},
   "source": [
    "### Y-NET Prediction"
   ]
  },
  {
   "cell_type": "code",
   "execution_count": 1,
   "metadata": {
    "collapsed": true
   },
   "outputs": [
    {
     "ename": "NameError",
     "evalue": "name 'np' is not defined",
     "output_type": "error",
     "traceback": [
      "\u001b[0;31m---------------------------------------------------------------------------\u001b[0m",
      "\u001b[0;31mNameError\u001b[0m                                 Traceback (most recent call last)",
      "\u001b[0;32m<ipython-input-1-024215d4d915>\u001b[0m in \u001b[0;36m<module>\u001b[0;34m\u001b[0m\n\u001b[1;32m      1\u001b[0m \u001b[0mIM_SIZE\u001b[0m \u001b[0;34m=\u001b[0m \u001b[0;36m400\u001b[0m\u001b[0;34m\u001b[0m\u001b[0;34m\u001b[0m\u001b[0m\n\u001b[0;32m----> 2\u001b[0;31m \u001b[0my_out_test_thresh\u001b[0m \u001b[0;34m=\u001b[0m \u001b[0mnp\u001b[0m\u001b[0;34m.\u001b[0m\u001b[0mzeros\u001b[0m\u001b[0;34m(\u001b[0m\u001b[0mshape\u001b[0m \u001b[0;34m=\u001b[0m \u001b[0;34m[\u001b[0m\u001b[0ml_roi_test\u001b[0m\u001b[0;34m,\u001b[0m \u001b[0mIM_SIZE\u001b[0m\u001b[0;34m,\u001b[0m \u001b[0mIM_SIZE\u001b[0m\u001b[0;34m]\u001b[0m\u001b[0;34m)\u001b[0m\u001b[0;34m\u001b[0m\u001b[0;34m\u001b[0m\u001b[0m\n\u001b[0m\u001b[1;32m      3\u001b[0m \u001b[0;32mfor\u001b[0m \u001b[0mi\u001b[0m \u001b[0;32min\u001b[0m \u001b[0mrange\u001b[0m\u001b[0;34m(\u001b[0m\u001b[0ml_roi_test\u001b[0m\u001b[0;34m)\u001b[0m\u001b[0;34m:\u001b[0m\u001b[0;34m\u001b[0m\u001b[0;34m\u001b[0m\u001b[0m\n\u001b[1;32m      4\u001b[0m     ret, temp = cv.threshold((np.squeeze(y_out_test[i,:,:]*255).astype(np.uint8)).copy(),\n\u001b[1;32m      5\u001b[0m                              0, 255,cv.THRESH_OTSU+cv.THRESH_BINARY)\n",
      "\u001b[0;31mNameError\u001b[0m: name 'np' is not defined"
     ]
    },
    {
     "ename": "NameError",
     "evalue": "name 'np' is not defined",
     "output_type": "error",
     "traceback": [
      "\u001b[0;31m---------------------------------------------------------------------------\u001b[0m",
      "\u001b[0;31mNameError\u001b[0m                                 Traceback (most recent call last)",
      "\u001b[0;32m<ipython-input-1-024215d4d915>\u001b[0m in \u001b[0;36m<module>\u001b[0;34m\u001b[0m\n\u001b[1;32m      1\u001b[0m \u001b[0mIM_SIZE\u001b[0m \u001b[0;34m=\u001b[0m \u001b[0;36m400\u001b[0m\u001b[0;34m\u001b[0m\u001b[0;34m\u001b[0m\u001b[0m\n\u001b[0;32m----> 2\u001b[0;31m \u001b[0my_out_test_thresh\u001b[0m \u001b[0;34m=\u001b[0m \u001b[0mnp\u001b[0m\u001b[0;34m.\u001b[0m\u001b[0mzeros\u001b[0m\u001b[0;34m(\u001b[0m\u001b[0mshape\u001b[0m \u001b[0;34m=\u001b[0m \u001b[0;34m[\u001b[0m\u001b[0ml_roi_test\u001b[0m\u001b[0;34m,\u001b[0m \u001b[0mIM_SIZE\u001b[0m\u001b[0;34m,\u001b[0m \u001b[0mIM_SIZE\u001b[0m\u001b[0;34m]\u001b[0m\u001b[0;34m)\u001b[0m\u001b[0;34m\u001b[0m\u001b[0;34m\u001b[0m\u001b[0m\n\u001b[0m\u001b[1;32m      3\u001b[0m \u001b[0;32mfor\u001b[0m \u001b[0mi\u001b[0m \u001b[0;32min\u001b[0m \u001b[0mrange\u001b[0m\u001b[0;34m(\u001b[0m\u001b[0ml_roi_test\u001b[0m\u001b[0;34m)\u001b[0m\u001b[0;34m:\u001b[0m\u001b[0;34m\u001b[0m\u001b[0;34m\u001b[0m\u001b[0m\n\u001b[1;32m      4\u001b[0m     ret, temp = cv.threshold((np.squeeze(y_out_test[i,:,:]*255).astype(np.uint8)).copy(),\n\u001b[1;32m      5\u001b[0m                              0, 255,cv.THRESH_OTSU+cv.THRESH_BINARY)\n",
      "\u001b[0;31mNameError\u001b[0m: name 'np' is not defined"
     ]
    },
    {
     "ename": "NameError",
     "evalue": "name 'np' is not defined",
     "output_type": "error",
     "traceback": [
      "\u001b[0;31m---------------------------------------------------------------------------\u001b[0m",
      "\u001b[0;31mNameError\u001b[0m                                 Traceback (most recent call last)",
      "\u001b[0;32m<ipython-input-1-024215d4d915>\u001b[0m in \u001b[0;36m<module>\u001b[0;34m\u001b[0m\n\u001b[1;32m      1\u001b[0m \u001b[0mIM_SIZE\u001b[0m \u001b[0;34m=\u001b[0m \u001b[0;36m400\u001b[0m\u001b[0;34m\u001b[0m\u001b[0;34m\u001b[0m\u001b[0m\n\u001b[0;32m----> 2\u001b[0;31m \u001b[0my_out_test_thresh\u001b[0m \u001b[0;34m=\u001b[0m \u001b[0mnp\u001b[0m\u001b[0;34m.\u001b[0m\u001b[0mzeros\u001b[0m\u001b[0;34m(\u001b[0m\u001b[0mshape\u001b[0m \u001b[0;34m=\u001b[0m \u001b[0;34m[\u001b[0m\u001b[0ml_roi_test\u001b[0m\u001b[0;34m,\u001b[0m \u001b[0mIM_SIZE\u001b[0m\u001b[0;34m,\u001b[0m \u001b[0mIM_SIZE\u001b[0m\u001b[0;34m]\u001b[0m\u001b[0;34m)\u001b[0m\u001b[0;34m\u001b[0m\u001b[0;34m\u001b[0m\u001b[0m\n\u001b[0m\u001b[1;32m      3\u001b[0m \u001b[0;32mfor\u001b[0m \u001b[0mi\u001b[0m \u001b[0;32min\u001b[0m \u001b[0mrange\u001b[0m\u001b[0;34m(\u001b[0m\u001b[0ml_roi_test\u001b[0m\u001b[0;34m)\u001b[0m\u001b[0;34m:\u001b[0m\u001b[0;34m\u001b[0m\u001b[0;34m\u001b[0m\u001b[0m\n\u001b[1;32m      4\u001b[0m     ret, temp = cv.threshold((np.squeeze(y_out_test[i,:,:]*255).astype(np.uint8)).copy(),\n\u001b[1;32m      5\u001b[0m                              0, 255,cv.THRESH_OTSU+cv.THRESH_BINARY)\n",
      "\u001b[0;31mNameError\u001b[0m: name 'np' is not defined"
     ]
    },
    {
     "ename": "NameError",
     "evalue": "name 'np' is not defined",
     "output_type": "error",
     "traceback": [
      "\u001b[0;31m---------------------------------------------------------------------------\u001b[0m",
      "\u001b[0;31mNameError\u001b[0m                                 Traceback (most recent call last)",
      "\u001b[0;32m<ipython-input-1-024215d4d915>\u001b[0m in \u001b[0;36m<module>\u001b[0;34m\u001b[0m\n\u001b[1;32m      1\u001b[0m \u001b[0mIM_SIZE\u001b[0m \u001b[0;34m=\u001b[0m \u001b[0;36m400\u001b[0m\u001b[0;34m\u001b[0m\u001b[0;34m\u001b[0m\u001b[0m\n\u001b[0;32m----> 2\u001b[0;31m \u001b[0my_out_test_thresh\u001b[0m \u001b[0;34m=\u001b[0m \u001b[0mnp\u001b[0m\u001b[0;34m.\u001b[0m\u001b[0mzeros\u001b[0m\u001b[0;34m(\u001b[0m\u001b[0mshape\u001b[0m \u001b[0;34m=\u001b[0m \u001b[0;34m[\u001b[0m\u001b[0ml_roi_test\u001b[0m\u001b[0;34m,\u001b[0m \u001b[0mIM_SIZE\u001b[0m\u001b[0;34m,\u001b[0m \u001b[0mIM_SIZE\u001b[0m\u001b[0;34m]\u001b[0m\u001b[0;34m)\u001b[0m\u001b[0;34m\u001b[0m\u001b[0;34m\u001b[0m\u001b[0m\n\u001b[0m\u001b[1;32m      3\u001b[0m \u001b[0;32mfor\u001b[0m \u001b[0mi\u001b[0m \u001b[0;32min\u001b[0m \u001b[0mrange\u001b[0m\u001b[0;34m(\u001b[0m\u001b[0ml_roi_test\u001b[0m\u001b[0;34m)\u001b[0m\u001b[0;34m:\u001b[0m\u001b[0;34m\u001b[0m\u001b[0;34m\u001b[0m\u001b[0m\n\u001b[1;32m      4\u001b[0m     ret, temp = cv.threshold((np.squeeze(y_out_test[i,:,:]*255).astype(np.uint8)).copy(),\n\u001b[1;32m      5\u001b[0m                              0, 255,cv.THRESH_OTSU+cv.THRESH_BINARY)\n",
      "\u001b[0;31mNameError\u001b[0m: name 'np' is not defined"
     ]
    },
    {
     "ename": "NameError",
     "evalue": "name 'np' is not defined",
     "output_type": "error",
     "traceback": [
      "\u001b[0;31m---------------------------------------------------------------------------\u001b[0m",
      "\u001b[0;31mNameError\u001b[0m                                 Traceback (most recent call last)",
      "\u001b[0;32m<ipython-input-1-024215d4d915>\u001b[0m in \u001b[0;36m<module>\u001b[0;34m\u001b[0m\n\u001b[1;32m      1\u001b[0m \u001b[0mIM_SIZE\u001b[0m \u001b[0;34m=\u001b[0m \u001b[0;36m400\u001b[0m\u001b[0;34m\u001b[0m\u001b[0;34m\u001b[0m\u001b[0m\n\u001b[0;32m----> 2\u001b[0;31m \u001b[0my_out_test_thresh\u001b[0m \u001b[0;34m=\u001b[0m \u001b[0mnp\u001b[0m\u001b[0;34m.\u001b[0m\u001b[0mzeros\u001b[0m\u001b[0;34m(\u001b[0m\u001b[0mshape\u001b[0m \u001b[0;34m=\u001b[0m \u001b[0;34m[\u001b[0m\u001b[0ml_roi_test\u001b[0m\u001b[0;34m,\u001b[0m \u001b[0mIM_SIZE\u001b[0m\u001b[0;34m,\u001b[0m \u001b[0mIM_SIZE\u001b[0m\u001b[0;34m]\u001b[0m\u001b[0;34m)\u001b[0m\u001b[0;34m\u001b[0m\u001b[0;34m\u001b[0m\u001b[0m\n\u001b[0m\u001b[1;32m      3\u001b[0m \u001b[0;32mfor\u001b[0m \u001b[0mi\u001b[0m \u001b[0;32min\u001b[0m \u001b[0mrange\u001b[0m\u001b[0;34m(\u001b[0m\u001b[0ml_roi_test\u001b[0m\u001b[0;34m)\u001b[0m\u001b[0;34m:\u001b[0m\u001b[0;34m\u001b[0m\u001b[0;34m\u001b[0m\u001b[0m\n\u001b[1;32m      4\u001b[0m     ret, temp = cv.threshold((np.squeeze(y_out_test[i,:,:]*255).astype(np.uint8)).copy(),\n\u001b[1;32m      5\u001b[0m                              0, 255,cv.THRESH_OTSU+cv.THRESH_BINARY)\n",
      "\u001b[0;31mNameError\u001b[0m: name 'np' is not defined"
     ]
    }
   ],
   "source": [
    "IM_SIZE = 400\n",
    "y_out_test_thresh = np.zeros(shape = [l_roi_test, IM_SIZE, IM_SIZE])\n",
    "for i in range(l_roi_test):\n",
    "    ret, temp = cv.threshold((np.squeeze(y_out_test[i,:,:]*255).astype(np.uint8)).copy(),\n",
    "                             0, 255,cv.THRESH_OTSU+cv.THRESH_BINARY)\n",
    "    #y_out_test_thresh[i, :, :] =cv.medianBlur(temp, 7)\n",
    "    y_out_test_thresh[i, :, :] = temp#closed#"
   ]
  },
  {
   "cell_type": "code",
   "execution_count": 11,
   "metadata": {},
   "outputs": [
    {
     "data": {
      "image/png": "[encoded data removed]",
      "text/plain": [
       "<Figure size 1080x1080 with 2 Axes>"
      ]
     },
     "metadata": {},
     "output_type": "display_data"
    }
   ],
   "source": [
    "g =random.randint(0, l_roi_test)\n",
    "#im_test = np.squeeze(y_out_test_thresh[g,:,:])\n",
    "show_images2(np.squeeze(y_out_test_thresh[g,:,:]), \n",
    "             np.squeeze(y_gth_test[g,:,:]), \n",
    "             title1 = 'Y-Net pred thresh', \n",
    "             title2 = 'gt mask')"
   ]
  },
  {
   "cell_type": "code",
   "execution_count": 4,
   "metadata": {},
   "outputs": [],
   "source": [
    "from sklearn.metrics import precision_recall_curve\n",
    "import pprint\n",
    "pp = pprint.PrettyPrinter(indent=2)"
   ]
  },
  {
   "cell_type": "code",
   "execution_count": 5,
   "metadata": {},
   "outputs": [],
   "source": [
    "def Reverse(lst): \n",
    "    return [ele for ele in reversed(lst)]"
   ]
  },
  {
   "cell_type": "code",
   "execution_count": 6,
   "metadata": {},
   "outputs": [],
   "source": [
    "def normalize_to_gray(im):\n",
    "    if len(im.shape) > 2:\n",
    "        im = cv.cvtColor(im, cv.COLOR_BGR2GRAY)\n",
    "        _, im = cv.threshold(((im*255).astype(np.uint8)).copy(),0 ,255 ,cv.THRESH_OTSU+cv.THRESH_BINARY)\n",
    "    im = im / im.max()\n",
    "    return im "
   ]
  },
  {
   "cell_type": "code",
   "execution_count": 7,
   "metadata": {},
   "outputs": [],
   "source": [
    "def findBoundingboxss(image, correction_margin=0):\n",
    "    #print('A')\n",
    "    ##################### no trans#############################\n",
    "    #contours, _ = cv.findContours(image.copy(), cv.RETR_EXTERNAL, cv.CHAIN_APPROX_SIMPLE)\n",
    "    ##################### morph trans #########################\n",
    "    kernel = cv.getStructuringElement(cv.MORPH_RECT, (5, 5))\n",
    "    closed = cv.morphologyEx(image, cv.MORPH_OPEN, kernel)\n",
    "    closed = cv.erode(closed, None, iterations = 3)\n",
    "    contours, _ = cv.findContours(closed.copy(), cv.RETR_EXTERNAL, cv.CHAIN_APPROX_SIMPLE)\n",
    "    ##################### Watershed ############################\n",
    "    #_, imgray = cv.threshold(closed, 0, 255, cv.THRESH_BINARY)\n",
    "#     closed = image\n",
    "#     #t=time.time()\n",
    "#     Distance = ndimage.distance_transform_edt(closed)\n",
    "#     D = ((Distance - Distance.min()) / (Distance.max() - Distance.min()) * 255).astype(np.uint8)\n",
    "#     _, D = cv.threshold(D, 0, 255, cv.THRESH_BINARY)\n",
    "#     localMax = peak_local_max(D, indices=False, min_distance=1, labels=closed)\n",
    "#     markers = ndimage.label(localMax, structure=np.ones((3, 3)))[0]\n",
    "#     labels = watershed(-D, markers, mask=closed)\n",
    "#     boundingBoxs = []\n",
    "#     scores = []\n",
    "#     for i in range(1, labels.max()+1):\n",
    "#         mask_temp = np.where(labels==i, np.uint8(255), np.uint8(0))\n",
    "#         contours, _ = cv.findContours(mask_temp.copy(), cv.RETR_TREE, cv.CHAIN_APPROX_NONE)\n",
    "#         for contour in contours:\n",
    "#             rect = cv.minAreaRect(contour)\n",
    "#             poly = cv.boxPoints(rect)\n",
    "#             box = np.int0(poly)\n",
    "#             boundingBoxs.append(box)\n",
    "#             scores.append(get_confidence_score(image, box))\n",
    "#     #print(t-time.time())\n",
    "#     return boundingBoxs, scores\n",
    "# comment up to watershed and uncomment bellow as it is\n",
    "    #contours, _ = cv.findContours(closed.copy(), cv.RETR_EXTERNAL, cv.CHAIN_APPROX_SIMPLE)\n",
    "    boundingBoxs = []\n",
    "    scores = []\n",
    "    for contour in contours:\n",
    "        rect = cv.minAreaRect(contour)\n",
    "        ############ polygone bboxes ##############\n",
    "        poly = cv.boxPoints(rect)\n",
    "        box = np.int0(poly)\n",
    "        #boundingBoxs.append(box)\n",
    "        ############ Up Right bboxes ##############\n",
    "        x, y, w, h = cv.boundingRect(contour)\n",
    "        temp = [y - correction_margin, x - correction_margin, y + h + correction_margin, x + w + correction_margin]\n",
    "        boundingBoxs.append(temp)\n",
    "        scores.append(get_confidence_score_(image, box))    \n",
    "    return boundingBoxs, scores"
   ]
  },
  {
   "cell_type": "code",
   "execution_count": 8,
   "metadata": {},
   "outputs": [],
   "source": [
    "def get_confidence_score_(im_mask, bb):\n",
    "    cnt = 0\n",
    "    pixel_acc = 0\n",
    "    im_w = im_mask.shape[0]\n",
    "    im_h = im_mask.shape[1]\n",
    "    poly = Polygon(bb)\n",
    "    minx, miny, maxx, maxy = list(np.int_(poly.bounds))\n",
    "    for row in range(minx, min( 400, maxx)):\n",
    "        for col in range(miny, min(400, maxy)):\n",
    "            p_temp = Point(row, col)\n",
    "            if p_temp.within(poly):\n",
    "                cnt += 1\n",
    "                pixel_acc = pixel_acc + im_mask[col, row]#/im_mask.max()\n",
    "    if cnt == 0:\n",
    "        return 0\n",
    "    avg_pix_value = pixel_acc/cnt\n",
    "    return avg_pix_value"
   ]
  },
  {
   "cell_type": "code",
   "execution_count": 9,
   "metadata": {},
   "outputs": [],
   "source": [
    "def calc_iou_individual(pred_box, gt_box):\n",
    "\n",
    "    x1_t, y1_t, x2_t, y2_t = gt_box\n",
    "    x1_p, y1_p, x2_p, y2_p = pred_box\n",
    "\n",
    "#     if (x1_p > x2_p) or (y1_p > y2_p):\n",
    "#         raise AssertionError(\n",
    "#             \"Prediction box is malformed? pred box: {}\".format(pred_box))\n",
    "#     if (x1_t > x2_t) or (y1_t > y2_t):\n",
    "#         raise AssertionError(\n",
    "#             \"Ground Truth box is malformed? true box: {}\".format(gt_box))\n",
    "\n",
    "    if (x2_t < x1_p or x2_p < x1_t or y2_t < y1_p or y2_p < y1_t):\n",
    "        return 0.0\n",
    "\n",
    "    far_x = np.min([x2_t, x2_p])\n",
    "    near_x = np.max([x1_t, x1_p])\n",
    "    far_y = np.min([y2_t, y2_p])\n",
    "    near_y = np.max([y1_t, y1_p])\n",
    "\n",
    "    inter_area = (far_x - near_x + 1) * (far_y - near_y + 1)\n",
    "    true_box_area = (x2_t - x1_t + 1) * (y2_t - y1_t + 1)\n",
    "    pred_box_area = (x2_p - x1_p + 1) * (y2_p - y1_p + 1)\n",
    "    iou = inter_area / (true_box_area + pred_box_area - inter_area)\n",
    "    return iou"
   ]
  },
  {
   "cell_type": "code",
   "execution_count": 10,
   "metadata": {},
   "outputs": [],
   "source": [
    "def get_single_image_results(gt_boxes, pred_boxes, iou_thr):\n",
    "\n",
    "    all_pred_indices = range(len(pred_boxes))\n",
    "    all_gt_indices = range(len(gt_boxes))\n",
    "    if len(all_pred_indices) == 0:\n",
    "        #print('A')\n",
    "        tp = 0\n",
    "        fp = 0\n",
    "        fn = len(gt_boxes)\n",
    "        #pp.pprint({'true_pos': tp, 'false_pos': fp, 'false_neg': fn})\n",
    "        return {'true_pos': tp, 'false_pos': fp, 'false_neg': fn}\n",
    "    if len(all_gt_indices) == 0:\n",
    "        #print('B')\n",
    "        tp = 0\n",
    "        fp = len(pred_boxes)\n",
    "        fn = 0\n",
    "        #pp.pprint({'true_pos': tp, 'false_pos': fp, 'false_neg': fn})\n",
    "        return {'true_pos': tp, 'false_pos': fp, 'false_neg': fn}\n",
    "\n",
    "    gt_idx_thr = []\n",
    "    pred_idx_thr = []\n",
    "    ious = []\n",
    "    for ipb, pred_box in enumerate(pred_boxes):\n",
    "        for igb, gt_box in enumerate(gt_boxes):\n",
    "            iou = calc_iou_individual(pred_box, gt_box)\n",
    "            if iou > iou_thr:\n",
    "                gt_idx_thr.append(igb)\n",
    "                pred_idx_thr.append(ipb)\n",
    "                ious.append(iou)\n",
    "            #print(iou)\n",
    "    args_desc = np.argsort(ious)[::-1]\n",
    "    if len(args_desc) == 0:\n",
    "        #print('C')\n",
    "        # No matches\n",
    "        tp = 0\n",
    "        fp = len(pred_boxes)\n",
    "        fn = len(gt_boxes)\n",
    "    else:\n",
    "        #print('D')\n",
    "        gt_match_idx = []\n",
    "        pred_match_idx = []\n",
    "        for idx in args_desc:\n",
    "            gt_idx = gt_idx_thr[idx]\n",
    "            pr_idx = pred_idx_thr[idx]\n",
    "            # If the boxes are unmatched, add them to matches\n",
    "            if (gt_idx not in gt_match_idx) and (pr_idx not in pred_match_idx):\n",
    "                gt_match_idx.append(gt_idx)\n",
    "                pred_match_idx.append(pr_idx)\n",
    "        tp = len(gt_match_idx)\n",
    "        fp = len(pred_boxes) - len(pred_match_idx)\n",
    "        fn = len(gt_boxes) - len(gt_match_idx)\n",
    "    #pp.pprint({'true_pos': tp, 'false_pos': fp, 'false_neg': fn})\n",
    "    return {'true_pos': tp, 'false_pos': fp, 'false_neg': fn}"
   ]
  },
  {
   "cell_type": "code",
   "execution_count": 11,
   "metadata": {},
   "outputs": [],
   "source": [
    "def calc_precision_recall(img_results):\n",
    "\n",
    "    true_pos = 0; false_pos = 0; false_neg = 0\n",
    "    for _, res in img_results.items():\n",
    "        true_pos += res['true_pos']\n",
    "        false_pos += res['false_pos']\n",
    "        false_neg += res['false_neg']\n",
    "\n",
    "    try:\n",
    "        precision = true_pos/(true_pos + false_pos)\n",
    "    except ZeroDivisionError:\n",
    "        precision = 0.0\n",
    "    try:\n",
    "        recall = true_pos/(true_pos + false_neg)\n",
    "    except ZeroDivisionError:\n",
    "        recall = 0.0\n",
    "\n",
    "    return (precision, recall)"
   ]
  },
  {
   "cell_type": "code",
   "execution_count": 12,
   "metadata": {},
   "outputs": [],
   "source": [
    "def get_model_scores_map(pred_boxes):\n",
    "\n",
    "    model_scores_map = {}\n",
    "    for img_id, val in pred_boxes.items():\n",
    "        for score in val['scores']:\n",
    "            if score not in model_scores_map.keys():\n",
    "                model_scores_map[score] = [img_id]\n",
    "            else:\n",
    "                model_scores_map[score].append(img_id)\n",
    "    return model_scores_map"
   ]
  },
  {
   "cell_type": "code",
   "execution_count": 13,
   "metadata": {},
   "outputs": [],
   "source": [
    "def get_avg_precision_at_iou(gt_boxes, pred_boxes, iou_thr=0.5):\n",
    "\n",
    "    model_scores_map = get_model_scores_map(pred_boxes)\n",
    "    #print(model_scores_map)\n",
    "#     #print(model_scores_map)\n",
    "    sorted_model_scores = sorted(model_scores_map.keys())\n",
    "    #print(sorted_model_scores)\n",
    "    # Sort the predicted boxes in descending order (lowest scoring boxes first):\n",
    "    for img_id in pred_boxes.keys():\n",
    "        arg_sort = np.argsort(pred_boxes[img_id]['scores'])\n",
    "        pred_boxes[img_id]['scores'] = np.array(pred_boxes[img_id]['scores'])[arg_sort].tolist()\n",
    "        pred_boxes[img_id]['boxes'] = np.array(pred_boxes[img_id]['boxes'])[arg_sort].tolist()\n",
    "\n",
    "    pred_boxes_pruned = deepcopy(pred_boxes)\n",
    "    precisions = []\n",
    "    recalls = []\n",
    "    model_thrs = []\n",
    "    img_results = {}\n",
    "    # Loop over model score thresholds and calculate precision, recall\n",
    "    #cnt = 1\n",
    "    #for ithr, model_score_thr in enumerate(sorted_model_scores):#pred_boxes[img_id]['scores']\n",
    "     #   cnt +=1\n",
    "        # On first iteration, define img_results for the first time:\n",
    "    img_ids = gt_boxes.keys() #if ithr == 0 else model_scores_map[model_score_thr]\n",
    "    for img_id in img_ids:\n",
    "        #cnt +=1\n",
    "        gt_boxes_img = gt_boxes[img_id]\n",
    "        pred_boxes_img = pred_boxes_pruned[img_id]['boxes']\n",
    "        # calculate image results for this image\n",
    "        img_results[img_id] = get_single_image_results(\n",
    "            gt_boxes_img, pred_boxes_img, iou_thr)\n",
    "        #pp.pprint(img_results)\n",
    "        prec, rec = calc_precision_recall(img_results)\n",
    "        precisions.append(prec)\n",
    "        recalls.append(rec)\n",
    "        #print('r and p for up to image i')\n",
    "        #print(prec, rec)\n",
    "    #pp.pprint(img_results)\n",
    "\n",
    "    precisions = np.array(precisions)\n",
    "\n",
    "    recalls = np.array(recalls)\n",
    "    #print('########')\n",
    "    #print('r array')\n",
    "    #print(precisions)\n",
    "    #print('p array')\n",
    "    #print(recalls)\n",
    "\n",
    "    prec_at_rec = []\n",
    "    for recall_level in np.linspace(0.0, 1.0, 11):\n",
    "        try:\n",
    "            args = np.argwhere(recalls >= recall_level).flatten()\n",
    "            prec = max(precisions[args])\n",
    "        except ValueError:\n",
    "            prec = 0.0\n",
    "        prec_at_rec.append(prec)\n",
    "    avg_prec = np.mean(prec_at_rec)\n",
    "    #print('#####')\n",
    "    #print('ap')\n",
    "    #x = np.linspace(0.0, 1.0, 11)\n",
    "    #print(prec_at_rec)\n",
    "    #print(precisions)\n",
    "    #print(recalls)\n",
    "    #print(x)\n",
    "    #precision_recall_curve()\n",
    "\n",
    "    #print('last r p array el')\n",
    "    #print(precisions[len(precisions)-1], recalls[len(recalls)-1])\n",
    "    #print('prec at rec')\n",
    "    #print(prec_at_rec)\n",
    "    #plt.plot(np.linspace(0.0, 1.0, 11), prec_at_rec)\n",
    "\n",
    "    #print('args')\n",
    "    #print(args)\n",
    "    #plt.plot(args, prec_at_rec)\n",
    "    #plt.plot(x, precisions)\n",
    "    #plt.plot(x, prec_at_rec)\n",
    "    #plt.plot(recalls, Reverse(precisions))\n",
    "    #print(len(precisions))\n",
    "    #print(len(recalls))\n",
    "#     p =[]\n",
    "#     r = []\n",
    "#     for y in range(len(precisions)):\n",
    "#         p.append(pr)\n",
    "#         precision[i], recall[i], _ = precision_recall_curve(y_test[:, i],\n",
    "#                                                         y_score[:, i])\n",
    "#     plt.plot(recall[i], precision[i], lw=2, label='class {}'.format(i))\n",
    "\n",
    "#     interpolation = list(precisions)\n",
    "#     for i in reversed(range(len(interpolation) - 1)):\n",
    "#         if interpolation[i+1]>interpolation[i]:\n",
    "#             interpolation[i]=interpolation[i+1]\n",
    "#     plt.plot(list(recalls), interpolation)\n",
    "    #plt.legend(t, title = 'iou thresholds', loc='lower right')\n",
    "    #AP.append(metrics.auc(list(data[\"Recall\"]), interpolation))\n",
    "    #return {'avg_prec': avg_prec}\n",
    "    #return avg_prec, prec_at_rec, precisions, recalls\n",
    "    return {\n",
    "            'avg_prec': avg_prec,\n",
    "            'precisions': precisions,\n",
    "            'recalls': recalls,\n",
    "            }"
   ]
  },
  {
   "cell_type": "code",
   "execution_count": 14,
   "metadata": {},
   "outputs": [],
   "source": [
    "def get_avg_precision_at_iou2(gt_boxes, pred_boxes, iou_thr=0.5):\n",
    "\n",
    "    model_scores_map = get_model_scores_map(pred_boxes)\n",
    "    sorted_model_scores = sorted(model_scores_map.keys())\n",
    "\n",
    "    # Sort the predicted boxes in descending order (lowest scoring boxes first):\n",
    "    for img_id in pred_boxes.keys():\n",
    "        arg_sort = np.argsort(pred_boxes[img_id]['scores'])\n",
    "        pred_boxes[img_id]['scores'] = np.array(pred_boxes[img_id]['scores'])[arg_sort].tolist()\n",
    "        pred_boxes[img_id]['boxes'] = np.array(pred_boxes[img_id]['boxes'])[arg_sort].tolist()\n",
    "\n",
    "    pred_boxes_pruned = deepcopy(pred_boxes)\n",
    "\n",
    "    precisions = []\n",
    "    recalls = []\n",
    "    model_thrs = []\n",
    "    img_results = {}\n",
    "    # Loop over model score thresholds and calculate precision, recall\n",
    "    for ithr, model_score_thr in enumerate(sorted_model_scores[:-1]):\n",
    "        # On first iteration, define img_results for the first time:\n",
    "        img_ids = gt_boxes.keys() if ithr == 0 else model_scores_map[model_score_thr]\n",
    "        for img_id in img_ids:\n",
    "            gt_boxes_img = gt_boxes[img_id]\n",
    "            box_scores = pred_boxes_pruned[img_id]['scores']\n",
    "#             start_idx = 0\n",
    "#             for score in box_scores:\n",
    "#                 if score <= model_score_thr:\n",
    "#                     pred_boxes_pruned[img_id]\n",
    "#                     start_idx += 1\n",
    "#                 else:\n",
    "#                     break\n",
    "\n",
    "#             # Remove boxes, scores of lower than threshold scores:\n",
    "#             pred_boxes_pruned[img_id]['scores'] = pred_boxes_pruned[img_id]['scores'][start_idx:]\n",
    "#             pred_boxes_pruned[img_id]['boxes'] = pred_boxes_pruned[img_id]['boxes'][start_idx:]\n",
    "\n",
    "            # Recalculate image results for this image\n",
    "            img_results[img_id] = get_single_image_results(\n",
    "                gt_boxes_img, pred_boxes_pruned[img_id]['boxes'], iou_thr)\n",
    "        \n",
    "            prec, rec = calc_precision_recall(img_results)\n",
    "            precisions.append(prec)\n",
    "            recalls.append(rec)\n",
    "            model_thrs.append(model_score_thr)\n",
    "    #pp.pprint(img_results)\n",
    "    precisions = np.array(precisions)\n",
    "    recalls = np.array(recalls)\n",
    "    prec_at_rec = []\n",
    "    for recall_level in np.linspace(0.0, 1.0, 11):\n",
    "        try:\n",
    "            args = np.argwhere(recalls >= recall_level).flatten()\n",
    "            prec = max(precisions[args])\n",
    "        except ValueError:\n",
    "            prec = 0.0\n",
    "        prec_at_rec.append(prec)\n",
    "    avg_prec = np.mean(prec_at_rec)\n",
    "\n",
    "    return {\n",
    "        'avg_prec': avg_prec,\n",
    "        'precisions': precisions,\n",
    "        'recalls': recalls,\n",
    "        'model_thrs': model_thrs}"
   ]
  },
  {
   "cell_type": "code",
   "execution_count": 15,
   "metadata": {},
   "outputs": [],
   "source": [
    "def get"
   ]
  },
  {
   "cell_type": "code",
   "execution_count": 16,
   "metadata": {},
   "outputs": [],
   "source": [
    "def result_dict_pred(predictions, findBoundingBoxss=findBoundingboxss,  threshold=0.5, correction_margin=0):\n",
    "    k = 0\n",
    "    pred_boxs = {}\n",
    "    for prediction in tqdm(predictions):\n",
    "        prediction = (normalize_to_gray(prediction) > threshold).astype(np.uint8)\n",
    "#         plt.figure()\n",
    "#         plt.imshow(prediction)\n",
    "        ##find bounding boxes and conf score\n",
    "        bbs_pred, confidences = findBoundingBoxss(prediction, correction_margin)\n",
    "#         pp.pprint(bbs_pred)\n",
    "#         print('')\n",
    "#         print(confidences)\n",
    "        #Pred Boxes dict\n",
    "        pred_boxs[\"img_{:d}\".format(k)]= {\"boxes\": bbs_pred, \"scores\": confidences}\n",
    "        k+=1\n",
    "    return pred_boxs\n"
   ]
  },
  {
   "cell_type": "code",
   "execution_count": null,
   "metadata": {},
   "outputs": [],
   "source": []
  },
  {
   "cell_type": "code",
   "execution_count": 38,
   "metadata": {},
   "outputs": [],
   "source": [
    "def result_dict_gt(start, end):\n",
    "    \n",
    "    n_box = len(x_min)\n",
    "    temp = []\n",
    "    for i_box in range(n_box):\n",
    "        temp.append([int(y_min[i_box]), int(x_min[i_box]), int(y_max[i_box]), int(x_max[i_box])])\n",
    "    ground_truth_['img_{:d}'.format(k)] = temp\n",
    "    k+=1\n",
    "    return ground_truth_"
   ]
  },
  {
   "cell_type": "code",
   "execution_count": 27,
   "metadata": {},
   "outputs": [],
   "source": [
    "start_idx = 0\n",
    "end_idx = 50"
   ]
  },
  {
   "cell_type": "code",
   "execution_count": 28,
   "metadata": {},
   "outputs": [],
   "source": [
    "predictions = []\n",
    "for i in range(start_idx, end_idx+1):\n",
    "    predicition = np.squeeze(y_out_test_thresh[i,:,:])\n",
    "    predictions.append(predicition)"
   ]
  },
  {
   "cell_type": "code",
   "execution_count": 29,
   "metadata": {},
   "outputs": [],
   "source": [
    "# d = result_dict_gt(start_idx, end_idx+1)\n",
    "# pp.pprint(d)"
   ]
  },
  {
   "cell_type": "code",
   "execution_count": 30,
   "metadata": {},
   "outputs": [],
   "source": [
    "# dd = result_dict_pred(predictions, findBoundingBoxss=findBoundingboxss, threshold=0.5)\n",
    "# pp.pprint(dd)"
   ]
  },
  {
   "cell_type": "code",
   "execution_count": 48,
   "metadata": {},
   "outputs": [
    {
     "data": {
      "application/vnd.jupyter.widget-view+json": {
       "model_id": "865ba6e8c4174c82869a48850a0c9278",
       "version_major": 2,
       "version_minor": 0
      },
      "text/plain": [
       "HBox(children=(FloatProgress(value=0.0, max=51.0), HTML(value='')))"
      ]
     },
     "metadata": {},
     "output_type": "display_data"
    },
    {
     "name": "stdout",
     "output_type": "stream",
     "text": [
      "\n"
     ]
    }
   ],
   "source": [
    "def get"
   ]
  },
  {
   "cell_type": "code",
   "execution_count": 49,
   "metadata": {},
   "outputs": [
    {
     "data": {
      "application/vnd.jupyter.widget-view+json": {
       "model_id": "9436e4aec9d8463ba6c099bdca02491d",
       "version_major": 2,
       "version_minor": 0
      },
      "text/plain": [
       "HBox(children=(FloatProgress(value=0.0, max=51.0), HTML(value='')))"
      ]
     },
     "metadata": {},
     "output_type": "display_data"
    },
    {
     "name": "stdout",
     "output_type": "stream",
     "text": [
      "\n"
     ]
    }
   ],
   "source": [
    "gt_boxes_dict = result_dict_gt(start_idx, end_idx+1)"
   ]
  },
  {
   "cell_type": "code",
   "execution_count": 50,
   "metadata": {},
   "outputs": [],
   "source": [
    "# print('predictions')\n",
    "# pp.pprint(pred_boxes_dict)\n",
    "# print('#######################################################################')\n",
    "# print('ground thuth')\n",
    "# print('')\n",
    "# pp.pprint(gt_boxes_dict)"
   ]
  },
  {
   "cell_type": "code",
   "execution_count": 81,
   "metadata": {},
   "outputs": [
    {
     "data": {
      "image/png": "[encoded data removed]",
      "text/plain": [
       "<Figure size 1080x1080 with 2 Axes>"
      ]
     },
     "metadata": {},
     "output_type": "display_data"
    }
   ],
   "source": [
    "#visual check \n",
    "target_image_idx = 3#np.random.randint(start_idx, end_idx)\n",
    "#pp.pprint(pred_boxes_dict['img_{:d}'.format(target_image_idx)])\n",
    "pred_bboxes_coord = pred_boxes_dict['img_{:d}'.format(target_image_idx)]['boxes']\n",
    "pred_bboxes_scores = pred_boxes_dict['img_{:d}'.format(target_image_idx)]['scores']\n",
    "gt_bboxes_coord = gt_boxes_dict['img_{:d}'.format(target_image_idx)]\n",
    "\n",
    "xx = (np.squeeze(y_gth_test[target_image_idx,:,:]).astype(np.uint8)).copy()\n",
    "xx = cv.cvtColor(xx, cv.COLOR_GRAY2RGB)\n",
    "xx_pred = (np.squeeze(y_out_test_thresh[target_image_idx,:,:]).astype(np.uint8)).copy()\n",
    "xx_pred = cv.cvtColor(xx_pred, cv.COLOR_GRAY2RGB)\n",
    "for bbox_pred in pred_bboxes_coord:\n",
    "    cv.rectangle(xx, (bbox_pred[1], bbox_pred[0], bbox_pred[3]-bbox_pred[1], bbox_pred[2]-bbox_pred[0]), (255, 0, 0), 1)\n",
    "    cv.rectangle(xx_pred, (bbox_pred[1], bbox_pred[0], bbox_pred[3]-bbox_pred[1], bbox_pred[2]-bbox_pred[0]), (255, 0, 0), 1)\n",
    "for bbox_gt in gt_bboxes_coord:\n",
    "    cv.rectangle(xx, (bbox_gt[1], bbox_gt[0], bbox_gt[3]-bbox_gt[1], bbox_gt[2]-bbox_gt[0]), (0, 255, 0), 1)\n",
    "    cv.rectangle(xx_pred, (bbox_gt[1], bbox_gt[0], bbox_gt[3]-bbox_gt[1], bbox_gt[2]-bbox_gt[0]), (0, 255, 0), 1)\n",
    "    \n",
    "show_images2(xx_pred, \n",
    "             xx, \n",
    "             title1='Y-Net pred mask, RED = Predictions - GREEN = Ground Thruths', \n",
    "             title2 = 'gt mask, RED = Predictions - GREEN = Ground Thruths')\n"
   ]
  },
  {
   "cell_type": "code",
   "execution_count": 80,
   "metadata": {},
   "outputs": [
    {
     "name": "stdout",
     "output_type": "stream",
     "text": [
      "AP =  0.1443745383224229\n",
      "prec =  0.39634146341463417\n",
      "rec =  0.2927927927927928\n"
     ]
    }
   ],
   "source": [
    "# #p = tp/(tp+fp)\n",
    "# #r = tp/(tp+fn)\n",
    "\n",
    "results = get_avg_precision_at_iou3(gt_boxes_dict, pred_boxes_dict, iou_thr=0.9)\n",
    "ap = results['avg_prec']\n",
    "p = results['precisions']\n",
    "r = results ['recalls']\n",
    "\n",
    "print('AP = ', ap)\n",
    "print('prec = ', p[-1])\n",
    "print('rec = ', r[-1])"
   ]
  },
  {
   "cell_type": "code",
   "execution_count": 2079,
   "metadata": {},
   "outputs": [],
   "source": []
  },
  {
   "cell_type": "code",
   "execution_count": 2141,
   "metadata": {},
   "outputs": [],
   "source": [
    "threshold=0.5\n",
    "iou_threshold=0.5\n",
    "\n",
    "total_num_GT = 0\n",
    "all_data = {\"confidenceScore\": [], \"iou\": []}\n",
    "all_amazon_json = glob.glob(\"/home/ec2-user/SageMaker/benchmarks/amazon_images/all/*.json\")\n",
    "for i, filename in tqdm(enumerate(all_amazon_json), total=len(all_amazon_json)):\n",
    "    with open(filename,) as f:\n",
    "        gt = json.load(f)\n",
    "    bbs_truth = [shape['points'] for shape in gt['shapes']]\n",
    "    img_name = os.path.basename(filename)[:-4] + 'jpg'\n",
    "    loadpath = \"./amazon_test/\"+img_name\n",
    "    img = cv2.imread(loadpath)\n",
    "    if img is None:\n",
    "        continue\n",
    "\n",
    "    prediction = (normalize_to_gray(img) > threshold).astype(np.uint8)\n",
    "    # find bounding boxes\n",
    "    bbs_pred, confidences = findBoundingboxs(prediction)\n",
    "        \n",
    "    for bb_truth in bbs_truth:\n",
    "        max_iou = 0\n",
    "        max_cs = 0\n",
    "        for i in range(len(bbs_pred)):\n",
    "            curr_iou = iou(bbs_pred[i], bb_truth)\n",
    "            if curr_iou > max_iou:\n",
    "                max_iou = curr_iou\n",
    "                max_cs = confidences[i]\n",
    "        all_data[\"iou\"].append(max_iou)\n",
    "        all_data[\"confidenceScore\"].append(max_cs)\n",
    "\n",
    "    # increment total ground truths count\n",
    "    total_num_GT += len(bbs_truth)"
   ]
  },
  {
   "cell_type": "code",
   "execution_count": null,
   "metadata": {},
   "outputs": [],
   "source": []
  },
  {
   "cell_type": "code",
   "execution_count": null,
   "metadata": {},
   "outputs": [],
   "source": []
  },
  {
   "cell_type": "code",
   "execution_count": null,
   "metadata": {},
   "outputs": [],
   "source": []
  },
  {
   "cell_type": "code",
   "execution_count": null,
   "metadata": {},
   "outputs": [],
   "source": []
  },
  {
   "cell_type": "code",
   "execution_count": null,
   "metadata": {},
   "outputs": [],
   "source": []
  },
  {
   "cell_type": "code",
   "execution_count": null,
   "metadata": {},
   "outputs": [],
   "source": []
  },
  {
   "cell_type": "code",
   "execution_count": 1965,
   "metadata": {},
   "outputs": [],
   "source": [
    "# #GT Boxes\n",
    "# gt_boxes_dict1= {\"img_00285.png\": [[480, 457, 515, 529], [637, 435, 676, 536]]}\n",
    "# #Pred Boxes\n",
    "# pred_boxs_dict1={\"img_00285.png\": {\"boxes\": [[330, 463, 387, 505], [356, 456, 391, 521], [420, 433, 451, 498], [328, 465, 403, 540], [480, 477, 508, 522], \n",
    "#                                        [357, 460, 417, 537], [344, 459, 389, 493], [485, 459, 503, 511], [336, 463, 362, 496], [468, 435, 520, 521], \n",
    "#                                        [357, 458, 382, 485], [649, 479, 670, 531], [484, 455, 514, 519], [641, 439, 670, 532]], \n",
    "#                              \"scores\": [0.0739, 0.0843, 0.091, 0.1008, 0.1012, 0.1058, 0.1243, 0.1266, 0.1342, 0.1618, 0.2452, 0.8505, 0.9113, 0.972]}}"
   ]
  },
  {
   "cell_type": "code",
   "execution_count": 1791,
   "metadata": {},
   "outputs": [
    {
     "ename": "SyntaxError",
     "evalue": "invalid syntax (<ipython-input-1791-86001aa24e56>, line 3)",
     "output_type": "error",
     "traceback": [
      "\u001b[0;36m  File \u001b[0;32m\"<ipython-input-1791-86001aa24e56>\"\u001b[0;36m, line \u001b[0;32m3\u001b[0m\n\u001b[0;31m    (5, 5)+ 1 iteration + margin= 2\u001b[0m\n\u001b[0m                      ^\u001b[0m\n\u001b[0;31mSyntaxError\u001b[0m\u001b[0;31m:\u001b[0m invalid syntax\n"
     ]
    }
   ],
   "source": [
    "# ###2k ap50\n",
    "\n",
    "# (5, 5)+ 1 iteration + margin= 2\n",
    "\n",
    "# 50\n",
    "# AP =  0.7679387843495836\n",
    "# prec =  0.9385918475383801\n",
    "# rec =  0.8947368421052632\n",
    "\n",
    "\n",
    "# 90\n",
    "# AP =  0.06818181818181818\n",
    "# prec =  0.25\n",
    "# rec =  0.2631578947368421\n",
    "# #######################################################\n",
    "\n",
    "# (5, 5)+ 2 iteration + margin= 4\n",
    "# 50\n",
    "# AP =  0.8532537777021812\n",
    "# prec =  0.9387113672079623\n",
    "# rec =  0.9030453697949037\n",
    "\n",
    "\n",
    "# 90\n",
    "# AP =  0.06818181818181818\n",
    "# prec =  0.25\n",
    "# rec =  0.2631578947368421\n",
    "\n",
    "# #######################################################\n",
    "# (3, 3)+ 2 iteration + margin= 4\n",
    "# 50\n",
    "# AP =  0.8532537777021812\n",
    "# prec =  0.9387113672079623\n",
    "# rec =  0.9030453697949037 \n",
    "\n",
    "# 90\n",
    "# AP =  0.06818181818181818\n",
    "# prec =  0.25\n",
    "# rec =  0.2631578947368421\n",
    "\n",
    "# #######################################################\n",
    "\n",
    "# (3, 3)+ 1 iteration + margin= 3\n",
    "# 50\n",
    "\n",
    "# AP =  0.7549203373945642\n",
    "# prec =  0.9226804123711341\n",
    "# rec =  0.8879892037786775\n",
    "\n",
    "\n",
    "# 90\n",
    "# AP =  0.017771144910509216\n",
    "# prec =  0.10024449877750612\n",
    "# rec =  0.10526315789473684\n",
    "\n",
    "# #######################################################\n",
    "\n",
    "# (5, 5) + 3 iterations + correction margin 4\n",
    "# 50\n",
    "# AP =  0.8853180647066115\n",
    "# prec =  0.9750145264381174\n",
    "# rec =  0.8402603905858789\n",
    "# 90\n",
    "\n",
    "# AP =  0.21703758135628803\n",
    "# prec =  0.4758861127251598\n",
    "# rec =  0.4101151727591387\n",
    "\n",
    "\n",
    "# plt.figure(figsize=(15,5))\n",
    "# plt.plot(Reverse(sorted(r)), sorted(p))"
   ]
  },
  {
   "cell_type": "code",
   "execution_count": 1750,
   "metadata": {},
   "outputs": [
    {
     "name": "stdout",
     "output_type": "stream",
     "text": [
      "[0.57142857 0.66666667 0.76923077 0.75      ]\n",
      "[0.57142857 0.66666667 0.76923077 0.78947368]\n"
     ]
    }
   ],
   "source": [
    "# print(p[:4])\n",
    "# print(r[:4])"
   ]
  },
  {
   "cell_type": "code",
   "execution_count": 1944,
   "metadata": {},
   "outputs": [
    {
     "data": {
      "text/plain": [
       "Text(0, 0.5, 'precision')"
      ]
     },
     "execution_count": 1944,
     "metadata": {},
     "output_type": "execute_result"
    },
    {
     "data": {
      "image/png": "[encoded data removed]",
      "text/plain": [
       "<Figure size 1080x360 with 1 Axes>"
      ]
     },
     "metadata": {
      "needs_background": "light"
     },
     "output_type": "display_data"
    }
   ],
   "source": [
    "#just a dummy sample\n",
    "#recall=np.linspace(0.0,1.0,num=42)\n",
    "#precision=np.random.rand(42)*(1.-recall)\n",
    "recall=np.array(Reverse(sorted(r)))#np.linspace(0.0,1.0,num=2000)\n",
    "i=recall.shape[0]-2\n",
    "precision = np.array(sorted(p))#p#*(1.-recall)\n",
    "precision2=precision.copy()\n",
    "\n",
    "#print(len(precision))\n",
    "#print(len(recall))\n",
    "#plt.figure(figsize=(15,5))\n",
    "# interpolation...\n",
    "while i>=0:\n",
    "    if precision[i+1]>precision[i]:\n",
    "        precision[i]=precision[i+1]\n",
    "    i=i-1\n",
    "\n",
    "# plotting...\n",
    "fig, ax = plt.subplots(figsize=(15,5))\n",
    "for i in range(recall.shape[0]-1):\n",
    "    ax.plot((recall[i],recall[i]),(precision[i],precision[i+1]),'k-',label='',color='red') #vertical\n",
    "    ax.plot((recall[i],recall[i+1]),(precision[i+1],precision[i+1]),'k-',label='',color='red') #horizontal\n",
    "\n",
    "ax.plot(recall,precision2,'k--',color='blue')\n",
    "#ax.legend()\n",
    "ax.set_xlabel(\"recall\")\n",
    "ax.set_ylabel(\"precision\")\n",
    "#plt.savefig('fig.jpg')\n",
    "#fig.show()"
   ]
  },
  {
   "cell_type": "code",
   "execution_count": 2,
   "metadata": {},
   "outputs": [],
   "source": [
    "# iou_thr = 0.5\n",
    "# start_time = time.time()\n",
    "# data = get_avg_precision_at_iou2(gt_boxes_dict, pred_boxes_dict, iou_thr=iou_thr)\n",
    "# end_time = time.time()\n",
    "# print('Single IoU calculation took {:.4f} secs'.format(end_time - start_time))\n",
    "# print('avg precision: {:.4f}'.format(data['avg_prec']))"
   ]
  },
  {
   "cell_type": "code",
   "execution_count": 3,
   "metadata": {
    "scrolled": false
   },
   "outputs": [],
   "source": [
    "# start_time = time.time()\n",
    "# ax = None\n",
    "# avg_precs = []\n",
    "# iou_thrs = []\n",
    "# for idx, iou_thr in enumerate(np.linspace(0.5, 0.95, 10)):\n",
    "#     data = get_avg_precision_at_iou2(gt_boxes_dict, pred_boxes_dict, iou_thr=iou_thr)\n",
    "#     avg_precs.append(data['avg_prec'])\n",
    "#     iou_thrs.append(iou_thr)\n",
    "\n",
    "#     precisions = data['precisions']\n",
    "#     recalls = data['recalls']\n",
    "#     ax = plot_pr_curve(\n",
    "#         precisions, recalls, label='{:.2f}'.format(iou_thr), color=COLORS[idx*2], ax=ax)\n"
   ]
  },
  {
   "cell_type": "code",
   "execution_count": 1695,
   "metadata": {},
   "outputs": [],
   "source": [
    "\n",
    "# # prettify for printing:\n",
    "# avg_precs = [float('{:.4f}'.format(ap)) for ap in avg_precs]\n",
    "# # iou_thrs = [float('{:.4f}'.format(thr)) for thr in iou_thrs]\n",
    "# # #print('map: {:.2f}'.format(100*np.mean(avg_precs)))\n",
    "# # print('avg precs: ', avg_precs)\n",
    "# # print('iou_thrs:  ', iou_thrs)\n",
    "# # plt.legend(loc='upper right', title='IOU Thr', frameon=True)\n",
    "# # for xval in np.linspace(0.0, 1.0, 11):\n",
    "# #     plt.vlines(xval, 0.0, 1.1, color='gray', alpha=0.3, linestyles='dashed')\n",
    "# # end_time = time.time()\n",
    "# # print('\\nPlotting and calculating mAP takes {:.4f} secs'.format(end_time - start_time))\n",
    "# # plt.show()"
   ]
  },
  {
   "cell_type": "code",
   "execution_count": 1955,
   "metadata": {},
   "outputs": [],
   "source": [
    "# def plot_pr_curve(\n",
    "#     precisions, recalls, category='Barcodes', label=None, color=None, ax=None):\n",
    "#     \"\"\"Simple plotting helper function\"\"\"\n",
    "\n",
    "#     if ax is None:\n",
    "#         plt.figure(figsize=(10,8))\n",
    "#         ax = plt.gca()\n",
    "\n",
    "#     if color is None:\n",
    "#         color = COLORS[0]\n",
    "#     ax.scatter(Reverse(recalls), precisions, label=label, s=20, color=color)\n",
    "#     #ax.plot(recalls, precisions, label=label, s=20, color=color)\n",
    "#     #plt.plot(recalls, precisions)\n",
    "#     ax.set_xlabel('recall')\n",
    "#     ax.set_ylabel('precision')\n",
    "#     ax.set_title('Precision-Recall curve for {}'.format(category))\n",
    "#     ax.set_xlim([0.0,1.3])\n",
    "#     ax.set_ylim([0.0,1.2])\n",
    "#     return ax"
   ]
  },
  {
   "cell_type": "code",
   "execution_count": 35,
   "metadata": {},
   "outputs": [],
   "source": []
  },
  {
   "cell_type": "code",
   "execution_count": 1525,
   "metadata": {},
   "outputs": [],
   "source": [
    "# class BBox(object):\n",
    "#     def __init__(self, image_id, im_height, im_width, bb_xmin, bb_ymin, bb_xmax, bb_ymax):\n",
    "#         self.image_id = image_id\n",
    "#         self.im_height = im_height.numpy().tolist()\n",
    "#         self.im_width = im_width.numpy().tolist()\n",
    "#         self.bb_xmin = bb_xmin.numpy().tolist()\n",
    "#         self.bb_ymin = bb_ymin.numpy().tolist()\n",
    "#         self.bb_xmax = bb_xmax.numpy().tolist()\n",
    "#         self.bb_ymax = bb_ymax.numpy().tolist()\n",
    "\n",
    "# # ===============================\n",
    "# #  write\n",
    "# # ===============================\n",
    "# with open( \"test_bbox.pkl\", \"rb\" ) as f:\n",
    "#     arr_bbox = pickle.load( f )"
   ]
  },
  {
   "cell_type": "code",
   "execution_count": 693,
   "metadata": {},
   "outputs": [],
   "source": [
    "# import pickle\n",
    "# assert os.path.exists('test_bbox.pkl')\n",
    "# # with open('test_bbox.pkl', 'rb') as f:\n",
    "# #     #print('hi')\n",
    "# #     data = pickle.load(f)\n",
    "\n",
    "# with open( \"test_bbox.pkl\", \"rb\" ) as f:\n",
    "#     arr_bbox = pickle.load( f )"
   ]
  },
  {
   "cell_type": "code",
   "execution_count": 64,
   "metadata": {},
   "outputs": [],
   "source": [
    "# #GT Boxes\n",
    "# gt_boxes_dict1= {\"img_00285.png\": [[480, 457, 515, 529], [637, 435, 676, 536]]}\n",
    "# #Pred Boxes\n",
    "# pred_boxs_dict1={\"img_00285.png\": {\"boxes\": [[330, 463, 387, 505], [356, 456, 391, 521], [420, 433, 451, 498], [328, 465, 403, 540], [480, 477, 508, 522], \n",
    "#                                        [357, 460, 417, 537], [344, 459, 389, 493], [485, 459, 503, 511], [336, 463, 362, 496], [468, 435, 520, 521], \n",
    "#                                        [357, 458, 382, 485], [649, 479, 670, 531], [484, 455, 514, 519], [641, 439, 670, 532]], \n",
    "#                              \"scores\": [0.0739, 0.0843, 0.091, 0.1008, 0.1012, 0.1058, 0.1243, 0.1266, 0.1342, 0.1618, 0.2452, 0.8505, 0.9113, 0.972]}}"
   ]
  },
  {
   "cell_type": "code",
   "execution_count": 205,
   "metadata": {},
   "outputs": [],
   "source": [
    "# #GT Boxes\n",
    "# gt_boxes_dict3= {\"img_00285.png\": [[480, 457, 515, 529], [637, 435, 676, 536]]}\n",
    "# #Pred Boxes\n",
    "# pred_boxs_dict3={\"img_00285.png\": {\"boxes\": [[484, 455, 514, 519], [641, 439, 670, 532]], \n",
    "#                              \"scores\": [0.9113, 0.972]}}"
   ]
  },
  {
   "cell_type": "code",
   "execution_count": 111,
   "metadata": {},
   "outputs": [],
   "source": [
    "# #GT Boxes\n",
    "# gt_boxes_dict2= {\"img_00285.png\": [[480, 457, 515, 529], [637, 435, 676, 536], [67, 35, 76, 36]],\n",
    "#                 \"img_00286.png\": [[480, 457, 515, 529], [637, 435, 676, 536]],\n",
    "#                 \"img_00287.png\": [[480, 457, 515, 529], [637, 435, 676, 536]],\n",
    "#                 \"img_00288.png\": [[480, 457, 515, 529], [637, 435, 676, 536]],\n",
    "#                  \"img_00289.png\": [[480, 457, 515, 529], [637, 435, 676, 536], [67, 35, 76, 36]]\n",
    "#                 }\n",
    "# #Pred Boxes\n",
    "# k=40\n",
    "# pred_boxs_dict2={\"img_00285.png\": {\"boxes\": [[480, 457, 515, 529], [637, 435, 676, 536], [67, 35, 76, 36]], \n",
    "#                              \"scores\": [.94446, .9785, .99]},\n",
    "#                 \"img_00286.png\": {\"boxes\": [[480, 457, 515, 529], [637, 435, 676, 536]], \n",
    "#                              \"scores\": [.94446, .9785]},\n",
    "#                 \"img_00287.png\": {\"boxes\": [[480, 457, 515, 529], [637, 435, 676, 536]], \n",
    "#                              \"scores\": [.94446, .9785]},\n",
    "#                 \"img_00288.png\": {\"boxes\": [[480, 457, 515, 529], [637, 435, 676, 536]], \n",
    "#                              \"scores\": [.94446, .9785]},\n",
    "#                  \"img_00289.png\": {\"boxes\": [[480, 457, 515, 529], [637, 435, 676, 536], [67, 35, 76, 36]],\n",
    "#                                    \"scores\": [.94446, .9785, .99]}\n",
    "#                 }"
   ]
  },
  {
   "cell_type": "code",
   "execution_count": null,
   "metadata": {
    "scrolled": false
   },
   "outputs": [],
   "source": []
  },
  {
   "cell_type": "code",
   "execution_count": 101,
   "metadata": {},
   "outputs": [],
   "source": [
    "#get_avg_precision_at_iou(gt_boxes_dict, pred_boxs_dict, iou_thr=0.5)"
   ]
  },
  {
   "cell_type": "code",
   "execution_count": null,
   "metadata": {},
   "outputs": [],
   "source": []
  },
  {
   "cell_type": "code",
   "execution_count": null,
   "metadata": {},
   "outputs": [],
   "source": []
  },
  {
   "cell_type": "code",
   "execution_count": null,
   "metadata": {},
   "outputs": [],
   "source": []
  },
  {
   "cell_type": "code",
   "execution_count": null,
   "metadata": {},
   "outputs": [],
   "source": []
  },
  {
   "cell_type": "code",
   "execution_count": null,
   "metadata": {},
   "outputs": [],
   "source": []
  },
  {
   "cell_type": "code",
   "execution_count": null,
   "metadata": {},
   "outputs": [],
   "source": []
  },
  {
   "cell_type": "code",
   "execution_count": null,
   "metadata": {},
   "outputs": [],
   "source": []
  },
  {
   "cell_type": "code",
   "execution_count": null,
   "metadata": {},
   "outputs": [],
   "source": []
  },
  {
   "cell_type": "code",
   "execution_count": null,
   "metadata": {},
   "outputs": [],
   "source": [
    "# thresh = closed\n",
    "# _, imgray = cv.threshold(thresh, 0, 255, cv.THRESH_BINARY)\n",
    "# Distance = ndimage.distance_transform_edt(thresh)\n",
    "# D = ((Distance - Distance.min()) / (Distance.max() - Distance.min()) * 255).astype(np.uint8)\n",
    "# _, D = cv.threshold(D, 0, 255, cv.THRESH_BINARY)\n",
    "# localMax = peak_local_max(D, indices=False, min_distance=1, labels=thresh)\n",
    "# markers = ndimage.label(localMax, structure=np.ones((3, 3)))[0]\n",
    "# labels = watershed(-D, markers, mask=thresh)\n",
    "# print(\"{} unique segments found\".format(len(np.unique(labels)) - 1))\n",
    "# show_images2_heatmap(Distance, labels, title1=\"eucludian distance transform map\", title2 = \"labels map\")"
   ]
  },
  {
   "cell_type": "code",
   "execution_count": null,
   "metadata": {},
   "outputs": [],
   "source": []
  },
  {
   "cell_type": "code",
   "execution_count": null,
   "metadata": {},
   "outputs": [],
   "source": [
    "# imgray = 255*np.ones((400, 400)).astype(np.uint8)\n",
    "# imcolor = cv.cvtColor(imgray,cv.COLOR_GRAY2RGB)\n",
    "# imcolor3 = imcolor.copy()\n",
    "# dif = closed#np.squeeze(y_out_test_thresh[g,:,:]).astype(np.uint8)\n",
    "# ret, imgray = cv.threshold(dif.astype(np.uint8),0,255, cv.THRESH_BINARY)\n",
    "# #imgray = cv.medianBlur(imgray, 7)\n",
    "# contours, _ = cv.findContours(imgray.copy(), cv.RETR_TREE, cv.CHAIN_APPROX_NONE)#cv.RETR_EXTERNAL\n",
    "# #approx = cv.approxPolyDP(cnt, 0.01*cv.arcLength(cnt, True), True)\n",
    "# for i in range(0, len(contours)):\n",
    "#     #if (i % 2 == 0):\n",
    "#     cnt = contours[i]\n",
    "#     #approx = cv.approxPolyDP(cnt, 0.001*cv.arcLength(cnt, True), True)\n",
    "#        #mask = np.zeros(im2.shape,np.uint8)\n",
    "#        #cv2.drawContours(mask,[cnt],0,255,-1)\n",
    "#     r = np.random.randint(0,255)\n",
    "#     g = np.random.randint(0,255)\n",
    "#     b = np.random.randint(0,255)\n",
    "#     #rct = minAreaRect(cnt)\n",
    "#     rect = cv.minAreaRect(cnt)\n",
    "#     box = cv.boxPoints(rect) # cv2.boxPoints(rect) for OpenCV 3.x\n",
    "#     box = np.int0(box)\n",
    "#     cv.drawContours(imcolor3,[box],-1,(0,0,255),1)\n",
    "#     #cv.drawContours(imcolor3, [approx], 0, (0), 5)\n",
    "#     #x,y,w,h = cv.boundingRect(cnt)\n",
    "#     #cv.rectangle(imcolor3,(x,y),(x+w,y+h),(r,g,b),2)\n",
    "# #show_images1(imcolor3, title1 = 'gt')\n",
    "# show_images1_overlayed(np.squeeze(dif), imcolor3, title1 = '')\n",
    "# #show_images1_overlayed(np.squeeze(dif), imcolor3, title1 = '')"
   ]
  },
  {
   "cell_type": "code",
   "execution_count": null,
   "metadata": {},
   "outputs": [],
   "source": [
    "# show_images2_heatmap(Distance, labels, title1=\"eucludian distance transform map\", title2 = \"labels map\")\n",
    "# #show_images3_heatmap (Distance, markers, labels, title1=\"eucludian distance transform map\", title2 = \"markers\", title3 = \"labels\")"
   ]
  },
  {
   "cell_type": "code",
   "execution_count": null,
   "metadata": {},
   "outputs": [],
   "source": [
    "# imgray = 255*np.ones((400, 400)).astype(np.uint8)\n",
    "# imcolor = cv.cvtColor(imgray,cv.COLOR_GRAY2RGB)\n",
    "# imcolor3 = imcolor.copy()\n",
    "# for label in np.unique(labels):\n",
    "#     if label == 0:\n",
    "#         continue\n",
    "#     mask = np.zeros(dif.shape, dtype=\"uint8\")\n",
    "#     mask[labels == label] = 255\n",
    "#     r = np.random.randint(0,255)\n",
    "#     g = np.random.randint(0,255)\n",
    "#     b = np.random.randint(0,255)\n",
    "#     cnts = cv.findContours(mask.copy(), cv.RETR_EXTERNAL, cv.CHAIN_APPROX_SIMPLE)\n",
    "#     cnts = imutils.grab_contours(cnts)\n",
    "#     c = max(cnts, key=cv.contourArea)\n",
    "#     rect = cv.minAreaRect(c)\n",
    "#     box = cv.boxPoints(rect) \n",
    "#     box = np.int0(box)\n",
    "#     cv.drawContours(imcolor3,[box],-1,(r, g, b),2)\n",
    "# show_images1_overlayed(np.squeeze(dif), imcolor3, title1 = '')"
   ]
  },
  {
   "cell_type": "code",
   "execution_count": null,
   "metadata": {},
   "outputs": [],
   "source": [
    "# imgray = 255*np.ones((400, 400)).astype(np.uint8)\n",
    "# imcolor = cv.cvtColor(imgray,cv.COLOR_GRAY2RGB)\n",
    "# imcolor3 = imcolor.copy()\n",
    "# for label in np.unique(labels):\n",
    "#     if label == 0:\n",
    "#         continue\n",
    "#     mask = np.zeros(dif.shape, dtype=\"uint8\")\n",
    "#     mask[labels == label] = 255\n",
    "#     r = np.random.randint(0,255)\n",
    "#     g = np.random.randint(0,255)\n",
    "#     b = np.random.randint(0,255)\n",
    "#     cnts = cv.findContours(mask.copy(), cv.RETR_EXTERNAL, cv.CHAIN_APPROX_SIMPLE)\n",
    "#     cnts = imutils.grab_contours(cnts)\n",
    "#     c = max(cnts, key=cv.contourArea)\n",
    "#     x,y,w,h = cv.boundingRect(c)\n",
    "#     cv.rectangle(imcolor3,(x,y),(x+w,y+h),(r,g,b),2)\n",
    "# show_images1_overlayed(np.squeeze(dif), imcolor3, title1 = '')"
   ]
  },
  {
   "cell_type": "code",
   "execution_count": null,
   "metadata": {},
   "outputs": [],
   "source": [
    "#147, 98, 89, 80#147, 98, 89, 80"
   ]
  },
  {
   "cell_type": "code",
   "execution_count": null,
   "metadata": {},
   "outputs": [],
   "source": [
    "# #finding best output threshold\n",
    "# threshold_best_index = np.argmax(ious) \n",
    "# iou_best = ious[threshold_best_index]\n",
    "# threshold_best = thresholds_[threshold_best_index]\n",
    "# plt.figure(figsize=(15,5))\n",
    "# plt.plot(thresholds_, ious)\n",
    "# plt.plot(threshold_best, iou_best, \"xr\", label=\"Best prediction mask threshold\")\n",
    "# plt.xlabel(\"Threshold\")\n",
    "# plt.ylabel(\"IoU\")\n",
    "# plt.legend()\n",
    "# plt.show()"
   ]
  },
  {
   "cell_type": "code",
   "execution_count": null,
   "metadata": {},
   "outputs": [],
   "source": [
    "# print('The best threshold for the prediction is: {:1.2f}'.format(threshold_best))\n",
    "# print('')\n",
    "# print('The average IoU achieved with that prediction threshold is: {:1.2f}'.format(iou_best))"
   ]
  },
  {
   "cell_type": "code",
   "execution_count": null,
   "metadata": {},
   "outputs": [],
   "source": [
    "# threshold_opt = threshold_best"
   ]
  },
  {
   "cell_type": "code",
   "execution_count": null,
   "metadata": {
    "scrolled": false
   },
   "outputs": [],
   "source": []
  },
  {
   "cell_type": "code",
   "execution_count": null,
   "metadata": {},
   "outputs": [],
   "source": [
    "# gt_txt_path = 'gt/'\n",
    "# pred_txt_path = 'pred/'"
   ]
  },
  {
   "cell_type": "code",
   "execution_count": null,
   "metadata": {},
   "outputs": [],
   "source": [
    "# # Finds all bounding boxes using contours in a mask\n",
    "# def findBoundingboxes(path, input_im_tensor):\n",
    "#     json_file=[]\n",
    "#     bb_all = []\n",
    "#     score_all=[]\n",
    "#     bb_all_flat = []\n",
    "#     score_all_flat = []\n",
    "#     l = input_im_tensor.shape[0]\n",
    "#     for i in tqdm(range(l)):\n",
    "#         bb=[]\n",
    "#         bb_score = []\n",
    "#         imgray = np.squeeze(input_im_tensor[i, :, :]).astype(np.uint8)\n",
    "#         #ret, imgray = cv.threshold(imgray,0,255,cv.THRESH_OTSU+cv.THRESH_BINARY)\n",
    "#         #show_images1(imgray, title1 = '')\n",
    "#         #imcolor = cv.cvtColor(np.squeeze(input_im_tensor[i, :, :].astype(np.uint8)),cv.COLOR_GRAY2RGB)\n",
    "#         contours, _ = cv.findContours(imgray.copy(), cv.RETR_EXTERNAL, cv.CHAIN_APPROX_SIMPLE)\n",
    "#         #f = open(path + str(i) + '.txt','w+')\n",
    "#         for j in contours:\n",
    "#             #find bb and scores for each image\n",
    "#             Rect = cv.minAreaRect(j)\n",
    "#             bb_ = cv.cv.BoxPoints(Rect) if imutils.is_cv2() else cv.boxPoints(Rect)\n",
    "#             bb_int = np.int0(bb_)\n",
    "#             score = get_confidence_score(imgray, bb_int)\n",
    "#             #create txt file with bb and score for each image\n",
    "#       #      if path == 'pred/':\n",
    "#       #          f.write('Barcode\\t{:1.3f}\\t{:d}\\t{:d}\\t{:d}\\t{:d}\\t{:d}\\t{:d}\\t{:d}\\t{:d}\\n'.format(score, bb_int[0][0], bb_int[0][1], bb_int[1][0], bb_int[1][1], bb_int[2][0], bb_int[2][1], bb_int[3][0], bb_int[3][1]))\n",
    "#       #      elif path == 'gt/':\n",
    "#       #          f.write('Barcode\\t{:d}\\t{:d}\\t{:d}\\t{:d}\\t{:d}\\t{:d}\\t{:d}\\t{:d}\\n'.format(bb_int[0][0], bb_int[0][1], bb_int[1][0], bb_int[1][1], bb_int[2][0], bb_int[2][1], bb_int[3][0], bb_int[3][1]))\n",
    "            \n",
    "#             #save bb and scores for each image\n",
    "#             bb.append(bb_int)\n",
    "#             bb_score.append(score)\n",
    "#       #      bb_all_flat.append(bb_int)\n",
    "#       #      score_all_flat.append(score)\n",
    "            \n",
    "            \n",
    "#       #  f.close()    \n",
    "#         #save rect for all images    \n",
    "#         bb_all.append(bb)\n",
    "#         score_all.append(bb_score)\n",
    "     \n",
    "       \n",
    "        \n",
    "#     return bb_all, score_all#, bb_all_flat, score_all_flat"
   ]
  },
  {
   "cell_type": "code",
   "execution_count": null,
   "metadata": {},
   "outputs": [],
   "source": []
  },
  {
   "cell_type": "code",
   "execution_count": null,
   "metadata": {},
   "outputs": [],
   "source": [
    "# def conf_sorter(scores, bb): \n",
    "#     sorted_bb = []\n",
    "#     bb_and_score = list(zip(bb, scores))\n",
    "#     bb_and_score.sort(key = lambda element : element[1], reverse = True)\n",
    "#     for i in bb_and_score:\n",
    "#         sorted_bb.append(i[0])\n",
    "#     return bb_and_score, sorted_bb"
   ]
  },
  {
   "cell_type": "code",
   "execution_count": null,
   "metadata": {},
   "outputs": [],
   "source": [
    "# def bb_intersection_over_union(bbA, bbB):\n",
    "#     polyA = Polygon(bbA)\n",
    "#     polyB = Polygon(bbB)   \n",
    "#     polygon_intersection = polyA.intersection(polyB).area\n",
    "#     #print(polygon_intersection)\n",
    "#     polygon_union = polyA.union(polyB).area\n",
    "#     #print(polygon_union)\n",
    "#     iou = polygon_intersection / (polygon_union + 1e-15)\n",
    "#     return iou"
   ]
  },
  {
   "cell_type": "code",
   "execution_count": null,
   "metadata": {},
   "outputs": [],
   "source": [
    "# data = pd.DataFrame(all_data)\n",
    "# from sklearn import metrics\n",
    "# #data.sort_values(by=\"confidenceScore\", ascending=False)"
   ]
  },
  {
   "cell_type": "code",
   "execution_count": null,
   "metadata": {},
   "outputs": [],
   "source": []
  },
  {
   "cell_type": "code",
   "execution_count": null,
   "metadata": {},
   "outputs": [],
   "source": []
  },
  {
   "cell_type": "code",
   "execution_count": null,
   "metadata": {},
   "outputs": [],
   "source": []
  },
  {
   "cell_type": "code",
   "execution_count": null,
   "metadata": {},
   "outputs": [],
   "source": []
  },
  {
   "cell_type": "code",
   "execution_count": null,
   "metadata": {},
   "outputs": [],
   "source": []
  }
 ],
 "metadata": {
  "kernelspec": {
   "display_name": "conda_tensorflow_p36",
   "language": "python",
   "name": "conda_tensorflow_p36"
  },
  "language_info": {
   "codemirror_mode": {
    "name": "ipython",
    "version": 3
   },
   "file_extension": ".py",
   "mimetype": "text/x-python",
   "name": "python",
   "nbconvert_exporter": "python",
   "pygments_lexer": "ipython3",
   "version": "3.6.10"
  }
 },
 "nbformat": 4,
 "nbformat_minor": 4
}
