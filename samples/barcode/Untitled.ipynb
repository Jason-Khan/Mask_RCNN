{
 "cells": [
  {
   "cell_type": "code",
   "execution_count": 1,
   "metadata": {},
   "outputs": [],
   "source": [
    "# !pip install tensorflow-gpu==1.14 keras==2.1.0\n",
    "# !pip install tqdm\n",
    "# !pip install treepoem RandomWords wordcloud tqdm Shapely opencv-python ghostscript"
   ]
  },
  {
   "cell_type": "code",
   "execution_count": 2,
   "metadata": {},
   "outputs": [
    {
     "name": "stderr",
     "output_type": "stream",
     "text": [
      "/home/ec2-user/anaconda3/envs/tensorflow_p36/lib/python3.6/site-packages/tensorflow/python/framework/dtypes.py:516: FutureWarning: Passing (type, 1) or '1type' as a synonym of type is deprecated; in a future version of numpy, it will be understood as (type, (1,)) / '(1,)type'.\n",
      "  _np_qint8 = np.dtype([(\"qint8\", np.int8, 1)])\n",
      "/home/ec2-user/anaconda3/envs/tensorflow_p36/lib/python3.6/site-packages/tensorflow/python/framework/dtypes.py:517: FutureWarning: Passing (type, 1) or '1type' as a synonym of type is deprecated; in a future version of numpy, it will be understood as (type, (1,)) / '(1,)type'.\n",
      "  _np_quint8 = np.dtype([(\"quint8\", np.uint8, 1)])\n",
      "/home/ec2-user/anaconda3/envs/tensorflow_p36/lib/python3.6/site-packages/tensorflow/python/framework/dtypes.py:518: FutureWarning: Passing (type, 1) or '1type' as a synonym of type is deprecated; in a future version of numpy, it will be understood as (type, (1,)) / '(1,)type'.\n",
      "  _np_qint16 = np.dtype([(\"qint16\", np.int16, 1)])\n",
      "/home/ec2-user/anaconda3/envs/tensorflow_p36/lib/python3.6/site-packages/tensorflow/python/framework/dtypes.py:519: FutureWarning: Passing (type, 1) or '1type' as a synonym of type is deprecated; in a future version of numpy, it will be understood as (type, (1,)) / '(1,)type'.\n",
      "  _np_quint16 = np.dtype([(\"quint16\", np.uint16, 1)])\n",
      "/home/ec2-user/anaconda3/envs/tensorflow_p36/lib/python3.6/site-packages/tensorflow/python/framework/dtypes.py:520: FutureWarning: Passing (type, 1) or '1type' as a synonym of type is deprecated; in a future version of numpy, it will be understood as (type, (1,)) / '(1,)type'.\n",
      "  _np_qint32 = np.dtype([(\"qint32\", np.int32, 1)])\n",
      "/home/ec2-user/anaconda3/envs/tensorflow_p36/lib/python3.6/site-packages/tensorflow/python/framework/dtypes.py:525: FutureWarning: Passing (type, 1) or '1type' as a synonym of type is deprecated; in a future version of numpy, it will be understood as (type, (1,)) / '(1,)type'.\n",
      "  np_resource = np.dtype([(\"resource\", np.ubyte, 1)])\n",
      "/home/ec2-user/anaconda3/envs/tensorflow_p36/lib/python3.6/site-packages/tensorboard/compat/tensorflow_stub/dtypes.py:541: FutureWarning: Passing (type, 1) or '1type' as a synonym of type is deprecated; in a future version of numpy, it will be understood as (type, (1,)) / '(1,)type'.\n",
      "  _np_qint8 = np.dtype([(\"qint8\", np.int8, 1)])\n",
      "/home/ec2-user/anaconda3/envs/tensorflow_p36/lib/python3.6/site-packages/tensorboard/compat/tensorflow_stub/dtypes.py:542: FutureWarning: Passing (type, 1) or '1type' as a synonym of type is deprecated; in a future version of numpy, it will be understood as (type, (1,)) / '(1,)type'.\n",
      "  _np_quint8 = np.dtype([(\"quint8\", np.uint8, 1)])\n",
      "/home/ec2-user/anaconda3/envs/tensorflow_p36/lib/python3.6/site-packages/tensorboard/compat/tensorflow_stub/dtypes.py:543: FutureWarning: Passing (type, 1) or '1type' as a synonym of type is deprecated; in a future version of numpy, it will be understood as (type, (1,)) / '(1,)type'.\n",
      "  _np_qint16 = np.dtype([(\"qint16\", np.int16, 1)])\n",
      "/home/ec2-user/anaconda3/envs/tensorflow_p36/lib/python3.6/site-packages/tensorboard/compat/tensorflow_stub/dtypes.py:544: FutureWarning: Passing (type, 1) or '1type' as a synonym of type is deprecated; in a future version of numpy, it will be understood as (type, (1,)) / '(1,)type'.\n",
      "  _np_quint16 = np.dtype([(\"quint16\", np.uint16, 1)])\n",
      "/home/ec2-user/anaconda3/envs/tensorflow_p36/lib/python3.6/site-packages/tensorboard/compat/tensorflow_stub/dtypes.py:545: FutureWarning: Passing (type, 1) or '1type' as a synonym of type is deprecated; in a future version of numpy, it will be understood as (type, (1,)) / '(1,)type'.\n",
      "  _np_qint32 = np.dtype([(\"qint32\", np.int32, 1)])\n",
      "/home/ec2-user/anaconda3/envs/tensorflow_p36/lib/python3.6/site-packages/tensorboard/compat/tensorflow_stub/dtypes.py:550: FutureWarning: Passing (type, 1) or '1type' as a synonym of type is deprecated; in a future version of numpy, it will be understood as (type, (1,)) / '(1,)type'.\n",
      "  np_resource = np.dtype([(\"resource\", np.ubyte, 1)])\n",
      "Using TensorFlow backend.\n"
     ]
    }
   ],
   "source": [
    "import os\n",
    "import sys\n",
    "import json\n",
    "import datetime\n",
    "import numpy as np\n",
    "import skimage.draw\n",
    "\n",
    "# Root directory of the project\n",
    "ROOT_DIR = os.path.abspath(\"../../\")\n",
    "\n",
    "# Import Mask RCNN\n",
    "sys.path.append(ROOT_DIR)  # To find local version of the library\n",
    "from mrcnn.config import Config\n",
    "from mrcnn import model as modellib, utils\n",
    "from PIL import Image\n",
    "import cv2\n",
    "# Path to trained weights file\n",
    "COCO_WEIGHTS_PATH = os.path.join(ROOT_DIR, \"mask_rcnn_coco.h5\")\n",
    "\n",
    "# Directory to save logs and model checkpoints, if not provided\n",
    "# through the command line argument --logs\n",
    "DEFAULT_LOGS_DIR = os.path.join(ROOT_DIR, \"logs\")\n",
    "from barcode import BarcodeConfig"
   ]
  },
  {
   "cell_type": "code",
   "execution_count": 3,
   "metadata": {},
   "outputs": [
    {
     "name": "stdout",
     "output_type": "stream",
     "text": [
      "\n",
      "Configurations:\n",
      "BACKBONE                       resnet101\n",
      "BACKBONE_STRIDES               [4, 8, 16, 32, 64]\n",
      "BATCH_SIZE                     1\n",
      "BBOX_STD_DEV                   [0.1 0.1 0.2 0.2]\n",
      "COMPUTE_BACKBONE_SHAPE         None\n",
      "DETECTION_MAX_INSTANCES        100\n",
      "DETECTION_MIN_CONFIDENCE       0.9\n",
      "DETECTION_NMS_THRESHOLD        0.3\n",
      "FPN_CLASSIF_FC_LAYERS_SIZE     1024\n",
      "GPU_COUNT                      1\n",
      "GRADIENT_CLIP_NORM             5.0\n",
      "IMAGES_PER_GPU                 1\n",
      "IMAGE_CHANNEL_COUNT            3\n",
      "IMAGE_MAX_DIM                  1024\n",
      "IMAGE_META_SIZE                14\n",
      "IMAGE_MIN_DIM                  800\n",
      "IMAGE_MIN_SCALE                0\n",
      "IMAGE_RESIZE_MODE              square\n",
      "IMAGE_SHAPE                    [1024 1024    3]\n",
      "LEARNING_MOMENTUM              0.9\n",
      "LEARNING_RATE                  0.001\n",
      "LOSS_WEIGHTS                   {'rpn_class_loss': 1.0, 'rpn_bbox_loss': 1.0, 'mrcnn_class_loss': 1.0, 'mrcnn_bbox_loss': 1.0, 'mrcnn_mask_loss': 1.0}\n",
      "MASK_POOL_SIZE                 14\n",
      "MASK_SHAPE                     [28, 28]\n",
      "MAX_GT_INSTANCES               100\n",
      "MEAN_PIXEL                     [123.7 116.8 103.9]\n",
      "MINI_MASK_SHAPE                (56, 56)\n",
      "NAME                           barcode\n",
      "NUM_CLASSES                    2\n",
      "POOL_SIZE                      7\n",
      "POST_NMS_ROIS_INFERENCE        1000\n",
      "POST_NMS_ROIS_TRAINING         2000\n",
      "PRE_NMS_LIMIT                  6000\n",
      "ROI_POSITIVE_RATIO             0.33\n",
      "RPN_ANCHOR_RATIOS              [0.5, 1, 2]\n",
      "RPN_ANCHOR_SCALES              (32, 64, 128, 256, 512)\n",
      "RPN_ANCHOR_STRIDE              1\n",
      "RPN_BBOX_STD_DEV               [0.1 0.1 0.2 0.2]\n",
      "RPN_NMS_THRESHOLD              0.7\n",
      "RPN_TRAIN_ANCHORS_PER_IMAGE    256\n",
      "STEPS_PER_EPOCH                100\n",
      "TOP_DOWN_PYRAMID_SIZE          256\n",
      "TRAIN_BN                       False\n",
      "TRAIN_ROIS_PER_IMAGE           200\n",
      "USE_MINI_MASK                  True\n",
      "USE_RPN_ROIS                   True\n",
      "VALIDATION_STEPS               50\n",
      "WEIGHT_DECAY                   0.0001\n",
      "\n",
      "\n"
     ]
    }
   ],
   "source": [
    "class InferenceConfig(BarcodeConfig):\n",
    "    # Set batch size to 1 since we'll be running inference on\n",
    "    # one image at a time. Batch size = GPU_COUNT * IMAGES_PER_GPU\n",
    "    GPU_COUNT = 1\n",
    "    IMAGES_PER_GPU = 1\n",
    "config = InferenceConfig()\n",
    "config.display()"
   ]
  },
  {
   "cell_type": "code",
   "execution_count": 4,
   "metadata": {},
   "outputs": [
    {
     "name": "stdout",
     "output_type": "stream",
     "text": [
      "WARNING:tensorflow:From /home/ec2-user/anaconda3/envs/tensorflow_p36/lib/python3.6/site-packages/keras/backend/tensorflow_backend.py:492: The name tf.placeholder is deprecated. Please use tf.compat.v1.placeholder instead.\n",
      "\n",
      "WARNING:tensorflow:From /home/ec2-user/anaconda3/envs/tensorflow_p36/lib/python3.6/site-packages/keras/backend/tensorflow_backend.py:63: The name tf.get_default_graph is deprecated. Please use tf.compat.v1.get_default_graph instead.\n",
      "\n",
      "WARNING:tensorflow:From /home/ec2-user/anaconda3/envs/tensorflow_p36/lib/python3.6/site-packages/keras/backend/tensorflow_backend.py:3630: The name tf.random_uniform is deprecated. Please use tf.random.uniform instead.\n",
      "\n",
      "WARNING:tensorflow:From /home/ec2-user/anaconda3/envs/tensorflow_p36/lib/python3.6/site-packages/keras/backend/tensorflow_backend.py:3458: The name tf.nn.max_pool is deprecated. Please use tf.nn.max_pool2d instead.\n",
      "\n",
      "WARNING:tensorflow:From /home/ec2-user/anaconda3/envs/tensorflow_p36/lib/python3.6/site-packages/keras/backend/tensorflow_backend.py:1822: The name tf.image.resize_nearest_neighbor is deprecated. Please use tf.compat.v1.image.resize_nearest_neighbor instead.\n",
      "\n",
      "WARNING:tensorflow:From /home/ec2-user/anaconda3/envs/tensorflow_p36/lib/python3.6/site-packages/keras/backend/tensorflow_backend.py:1208: calling reduce_max_v1 (from tensorflow.python.ops.math_ops) with keep_dims is deprecated and will be removed in a future version.\n",
      "Instructions for updating:\n",
      "keep_dims is deprecated, use keepdims instead\n",
      "WARNING:tensorflow:From /home/ec2-user/anaconda3/envs/tensorflow_p36/lib/python3.6/site-packages/keras/backend/tensorflow_backend.py:1242: calling reduce_sum_v1 (from tensorflow.python.ops.math_ops) with keep_dims is deprecated and will be removed in a future version.\n",
      "Instructions for updating:\n",
      "keep_dims is deprecated, use keepdims instead\n",
      "WARNING:tensorflow:From /home/ec2-user/SageMaker/benchmarks/Mask_RCNN/mrcnn/model.py:341: The name tf.log is deprecated. Please use tf.math.log instead.\n",
      "\n",
      "WARNING:tensorflow:From /home/ec2-user/SageMaker/benchmarks/Mask_RCNN/mrcnn/model.py:399: add_dispatch_support.<locals>.wrapper (from tensorflow.python.ops.array_ops) is deprecated and will be removed in a future version.\n",
      "Instructions for updating:\n",
      "Use tf.where in 2.0, which has the same broadcast rule as np.where\n",
      "WARNING:tensorflow:From /home/ec2-user/SageMaker/benchmarks/Mask_RCNN/mrcnn/model.py:423: calling crop_and_resize_v1 (from tensorflow.python.ops.image_ops_impl) with box_ind is deprecated and will be removed in a future version.\n",
      "Instructions for updating:\n",
      "box_ind is deprecated, use box_indices instead\n",
      "WARNING:tensorflow:From /home/ec2-user/SageMaker/benchmarks/Mask_RCNN/mrcnn/model.py:720: The name tf.sets.set_intersection is deprecated. Please use tf.sets.intersection instead.\n",
      "\n",
      "WARNING:tensorflow:From /home/ec2-user/SageMaker/benchmarks/Mask_RCNN/mrcnn/model.py:722: The name tf.sparse_tensor_to_dense is deprecated. Please use tf.sparse.to_dense instead.\n",
      "\n",
      "WARNING:tensorflow:From /home/ec2-user/SageMaker/benchmarks/Mask_RCNN/mrcnn/model.py:772: to_float (from tensorflow.python.ops.math_ops) is deprecated and will be removed in a future version.\n",
      "Instructions for updating:\n",
      "Use `tf.cast` instead.\n"
     ]
    }
   ],
   "source": [
    "model = modellib.MaskRCNN(mode=\"inference\", config=config,\n",
    "                                  model_dir=DEFAULT_LOGS_DIR)"
   ]
  },
  {
   "cell_type": "code",
   "execution_count": 5,
   "metadata": {},
   "outputs": [
    {
     "name": "stdout",
     "output_type": "stream",
     "text": [
      "Re-starting from epoch 100\n"
     ]
    }
   ],
   "source": [
    "weights_path = model.find_last()\n",
    "model.load_weights(weights_path, by_name=True)"
   ]
  },
  {
   "cell_type": "code",
   "execution_count": 6,
   "metadata": {},
   "outputs": [],
   "source": [
    "test_ind = 90000\n",
    "test_image_path = \"/home/ec2-user/SageMaker/benchmarks/dataset/X/train_{}.png\".format(test_ind)\n",
    "test_image = skimage.io.imread(test_image_path)\n",
    "test_image = test_image.reshape(test_image.shape[0], test_image.shape[1], 1)"
   ]
  },
  {
   "cell_type": "code",
   "execution_count": 7,
   "metadata": {},
   "outputs": [
    {
     "name": "stdout",
     "output_type": "stream",
     "text": [
      "Processing 1 images\n",
      "image                    shape: (8451, 8451, 1)       min:    0.00000  max:  237.00000  uint8\n",
      "molded_images            shape: (1, 1024, 1024, 3)    min: -123.70000  max:  133.10000  float64\n",
      "image_metas              shape: (1, 14)               min:    0.00000  max: 8451.00000  float64\n",
      "anchors                  shape: (1, 261888, 4)        min:   -0.35390  max:    1.29134  float32\n"
     ]
    }
   ],
   "source": [
    "r = model.detect([test_image], verbose=1)[0]"
   ]
  },
  {
   "cell_type": "code",
   "execution_count": 8,
   "metadata": {},
   "outputs": [],
   "source": [
    "mask = r['masks']"
   ]
  },
  {
   "cell_type": "code",
   "execution_count": 13,
   "metadata": {},
   "outputs": [
    {
     "data": {
      "text/plain": [
       "False"
      ]
     },
     "execution_count": 13,
     "metadata": {},
     "output_type": "execute_result"
    }
   ],
   "source": [
    "mask.squeeze().()\n"
   ]
  },
  {
   "cell_type": "code",
   "execution_count": 5,
   "metadata": {},
   "outputs": [
    {
     "ename": "NameError",
     "evalue": "name 'test_image' is not defined",
     "output_type": "error",
     "traceback": [
      "\u001b[0;31m---------------------------------------------------------------------------\u001b[0m",
      "\u001b[0;31mNameError\u001b[0m                                 Traceback (most recent call last)",
      "\u001b[0;32m<ipython-input-5-de260ed80cb2>\u001b[0m in \u001b[0;36m<module>\u001b[0;34m\u001b[0m\n\u001b[1;32m      1\u001b[0m \u001b[0;32mimport\u001b[0m \u001b[0mmatplotlib\u001b[0m\u001b[0;34m.\u001b[0m\u001b[0mpyplot\u001b[0m \u001b[0;32mas\u001b[0m \u001b[0mplt\u001b[0m\u001b[0;34m\u001b[0m\u001b[0;34m\u001b[0m\u001b[0m\n\u001b[1;32m      2\u001b[0m \u001b[0mplt\u001b[0m\u001b[0;34m.\u001b[0m\u001b[0mfigure\u001b[0m\u001b[0;34m(\u001b[0m\u001b[0mfigsize\u001b[0m\u001b[0;34m=\u001b[0m\u001b[0;34m(\u001b[0m\u001b[0;36m15\u001b[0m\u001b[0;34m,\u001b[0m \u001b[0;36m15\u001b[0m\u001b[0;34m)\u001b[0m\u001b[0;34m)\u001b[0m\u001b[0;34m\u001b[0m\u001b[0;34m\u001b[0m\u001b[0m\n\u001b[0;32m----> 3\u001b[0;31m \u001b[0mplt\u001b[0m\u001b[0;34m.\u001b[0m\u001b[0mimshow\u001b[0m\u001b[0;34m(\u001b[0m\u001b[0mtest_image\u001b[0m\u001b[0;34m.\u001b[0m\u001b[0msqueeze\u001b[0m\u001b[0;34m(\u001b[0m\u001b[0;34m)\u001b[0m\u001b[0;34m,\u001b[0m \u001b[0mcmap\u001b[0m\u001b[0;34m=\u001b[0m\u001b[0;34m'gray'\u001b[0m\u001b[0;34m)\u001b[0m\u001b[0;34m\u001b[0m\u001b[0;34m\u001b[0m\u001b[0m\n\u001b[0m",
      "\u001b[0;31mNameError\u001b[0m: name 'test_image' is not defined"
     ]
    },
    {
     "data": {
      "text/plain": [
       "<Figure size 1080x1080 with 0 Axes>"
      ]
     },
     "metadata": {},
     "output_type": "display_data"
    }
   ],
   "source": [
    "import matplotlib.pyplot as plt\n",
    "plt.figure(figsize=(15, 15))\n",
    "plt.imshow(test_image.squeeze(), cmap='gray')"
   ]
  },
  {
   "cell_type": "code",
   "execution_count": null,
   "metadata": {
    "scrolled": false
   },
   "outputs": [],
   "source": [
    "plt.figure(figsize=(15, 15))\n",
    "plt.imshow(mask.squeeze(), cmap='gray')"
   ]
  },
  {
   "cell_type": "code",
   "execution_count": 13,
   "metadata": {},
   "outputs": [],
   "source": [
    "#obtain confidence scores\n",
    "def get_confidence_score(im_mask, bb):\n",
    "    cnt = 0\n",
    "    pixel_acc = 0\n",
    "    im_w = im_mask.shape[0]\n",
    "    im_h = im_mask.shape[1]\n",
    "    poly = Polygon(bb)\n",
    "    minx, miny, maxx, maxy = list(np.int_(poly.bounds))\n",
    "    for row in range(minx, min(minx + 400, maxx)):\n",
    "        for col in range(miny, min(miny + 400, maxy)):\n",
    "            p_temp = Point(row, col)\n",
    "            if p_temp.within(poly):\n",
    "                cnt += 1\n",
    "                pixel_acc = pixel_acc + im_mask[col, row]\n",
    "    if cnt == 0:\n",
    "        return 0\n",
    "    avg_pix_value = pixel_acc/cnt\n",
    "    return avg_pix_value\n",
    "\n",
    "# Finds all bounding boxes using contours in a mask\n",
    "def findBoundingboxs(image):\n",
    "    contours, _ = cv2.findContours(image.copy(), cv2.RETR_EXTERNAL, cv2.CHAIN_APPROX_SIMPLE)\n",
    "    boundingBoxs = []\n",
    "    scores = []\n",
    "    for contour in contours:\n",
    "        rect = cv2.minAreaRect(contour)\n",
    "        poly = cv2.boxPoints(rect)\n",
    "        box = np.int0(poly)\n",
    "        boundingBoxs.append(box)\n",
    "        scores.append(get_confidence_score(image, box))\n",
    "        \n",
    "    return boundingBoxs, scores\n",
    "\n",
    "# Calculate Intersection over Union of two bounding boxes\n",
    "def iou(bb1, bb2):\n",
    "    a = Polygon(bb1)\n",
    "    b = Polygon(bb2)\n",
    "    return a.intersection(b).area / a.union(b).area\n",
    "\n",
    "# Calculates the mean Intersection over Union of two masks\n",
    "# Only considers the number of BBs in label masks\n",
    "# algo may needs update\n",
    "def mean_iou(pred_bbs, label_bbs):\n",
    "    if len(pred_bbs) == 0:\n",
    "        return 0\n",
    "    iou_scores = np.zeros((len(label_bbs), len(pred_bbs)))\n",
    "    for i in range(len(label_bbs)):\n",
    "        for j in range(len(pred_bbs)):\n",
    "            iou_scores[i, j] = iou(label_bbs[i], pred_bbs[j])\n",
    "\n",
    "    scores_taken = np.amax(iou_scores, axis=1)\n",
    "    assert(len(scores_taken) == len(label_bbs))\n",
    "    return sum(scores_taken) / len(label_bbs)"
   ]
  },
  {
   "cell_type": "code",
   "execution_count": null,
   "metadata": {},
   "outputs": [],
   "source": [
    "def test(model, threshold=0.5):\n",
    "    # remove extensions\n",
    "    total_iou = 0\n",
    "    all_data = {\"imageName\": [], \"confidenceScore\": [], \n",
    "                \"predBoundingBox\": [], \"truthBoundingBox\": [],\n",
    "                \"iou\": []}\n",
    "    total_num_GT = 0\n",
    "    for i in tqdm(range(90000, 90050)):\n",
    "        # load and pad images\n",
    "        test_image_path = \"/home/ec2-user/SageMaker/benchmarks/dataset/X/train_{}.png\".format(i)\n",
    "        test_image = skimage.io.imread(test_image_path)\n",
    "        test_image = test_image.reshape(test_image.shape[0], test_image.shape[1], 1)\n",
    "        test_gt_path = \"/home/ec2-user/SageMaker/benchmarks/dataset/Y/train_mask_{}.png\".format(i)\n",
    "        test_gt = skimage.io.imread(test_gt_path)\n",
    "        r = model.detect([test_image], verbose=1)[0]\n",
    "        prediction = r['masks'].squeeze()\n",
    "        # find prediction boundingboxs\n",
    "        prediction = (prediction > threshold).astype(np.uint8)\n",
    "#         _, prediction = cv2.threshold(prediction, 0, 255, cv2.THRESH_OTSU+cv2.THRESH_BINARY)\n",
    "        bbs_pred, confidences = findBoundingboxs(prediction)\n",
    "        bbs_truth, _ = findBoundingboxs(test_gt)\n",
    "        \n",
    "        # constructing database\n",
    "        all_data[\"imageName\"] += [i] * len(confidences)\n",
    "        all_data[\"confidenceScore\"] += confidences\n",
    "        all_data[\"predBoundingBox\"] += bbs_pred\n",
    "        for bb_pred in bbs_pred:\n",
    "            max_iou = 0\n",
    "            max_bb = None\n",
    "            for bb_truth in bbs_truth:\n",
    "                this_iou = iou(bb_pred, bb_truth)\n",
    "                if this_iou > max_iou:\n",
    "                    max_iou = this_iou\n",
    "                    max_bb = bb_truth\n",
    "            all_data[\"iou\"].append(max_iou)\n",
    "            all_data[\"truthBoundingBox\"].append(max_bb)\n",
    "        curr_iou = mean_iou(bbs_pred, bbs_truth)\n",
    "        total_iou += curr_iou\n",
    "        total_num_GT += len(bbs_truth)\n",
    "    total_iou /= 90050 - 90000\n",
    "    return total_iou, all_data, total_num_GT"
   ]
  },
  {
   "cell_type": "code",
   "execution_count": 7,
   "metadata": {},
   "outputs": [
    {
     "ename": "ModuleNotFoundError",
     "evalue": "No module named 'shapely'",
     "output_type": "error",
     "traceback": [
      "\u001b[0;31m---------------------------------------------------------------------------\u001b[0m",
      "\u001b[0;31mModuleNotFoundError\u001b[0m                       Traceback (most recent call last)",
      "\u001b[0;32m<ipython-input-7-415a67abd119>\u001b[0m in \u001b[0;36m<module>\u001b[0;34m\u001b[0m\n\u001b[1;32m      5\u001b[0m \u001b[0;32mimport\u001b[0m \u001b[0mcv2\u001b[0m\u001b[0;34m\u001b[0m\u001b[0;34m\u001b[0m\u001b[0m\n\u001b[1;32m      6\u001b[0m \u001b[0;32mimport\u001b[0m \u001b[0mmatplotlib\u001b[0m\u001b[0;34m.\u001b[0m\u001b[0mpyplot\u001b[0m \u001b[0;32mas\u001b[0m \u001b[0mplt\u001b[0m\u001b[0;34m\u001b[0m\u001b[0;34m\u001b[0m\u001b[0m\n\u001b[0;32m----> 7\u001b[0;31m \u001b[0;32mfrom\u001b[0m \u001b[0mshapely\u001b[0m\u001b[0;34m.\u001b[0m\u001b[0mgeometry\u001b[0m \u001b[0;32mimport\u001b[0m \u001b[0mPolygon\u001b[0m\u001b[0;34m,\u001b[0m \u001b[0mPoint\u001b[0m\u001b[0;34m\u001b[0m\u001b[0;34m\u001b[0m\u001b[0m\n\u001b[0m\u001b[1;32m      8\u001b[0m \u001b[0;32mimport\u001b[0m \u001b[0mjson\u001b[0m\u001b[0;34m\u001b[0m\u001b[0;34m\u001b[0m\u001b[0m\n\u001b[1;32m      9\u001b[0m \u001b[0;32mimport\u001b[0m \u001b[0mglob\u001b[0m\u001b[0;34m\u001b[0m\u001b[0;34m\u001b[0m\u001b[0m\n",
      "\u001b[0;31mModuleNotFoundError\u001b[0m: No module named 'shapely'"
     ]
    }
   ],
   "source": [
    "import tensorflow as tf\n",
    "from tensorflow.keras import layers\n",
    "from tensorflow.keras import Model\n",
    "import numpy as np\n",
    "import cv2\n",
    "import matplotlib.pyplot as plt\n",
    "from shapely.geometry import Polygon, Point\n",
    "import json\n",
    "import glob\n",
    "import math\n",
    "from tqdm.notebook import tqdm\n",
    "import pandas as pd"
   ]
  },
  {
   "cell_type": "code",
   "execution_count": null,
   "metadata": {},
   "outputs": [],
   "source": [
    "result, all_data, total_num_GT = test(model, 0.2)\n",
    "print(\"Mean IoU: \", result)"
   ]
  },
  {
   "cell_type": "code",
   "execution_count": null,
   "metadata": {},
   "outputs": [],
   "source": [
    "iou_threshold = 60 / 100\n",
    "\n",
    "data = pd.DataFrame(all_data)\n",
    "data[\"TP\"] = (data[\"iou\"] >= iou_threshold) * 1\n",
    "data[\"FP\"] = (data[\"iou\"] < iou_threshold) * 1\n",
    "data = data.sort_values(by=[\"confidenceScore\", \"TP\"], ascending=[False, False])\n",
    "data[\"Acc TP\"] = np.cumsum(data[\"TP\"])\n",
    "data[\"Acc FP\"] = np.cumsum(data[\"FP\"])\n",
    "data[\"Precision\"] = data[\"Acc TP\"] / (data[\"Acc TP\"] + data[\"Acc FP\"])\n",
    "data[\"Recall\"] = data[\"Acc TP\"] / total_num_GT\n",
    "plt.plot(list(data[\"Recall\"]), list(data[\"Precision\"]))\n",
    "interpolation = list(data[\"Precision\"])\n",
    "for i in reversed(range(len(interpolation) - 1)):\n",
    "    if interpolation[i+1]>interpolation[i]:\n",
    "        interpolation[i]=interpolation[i+1]\n",
    "# plt.figsize((15, 10))\n",
    "plt.plot(list(data[\"Recall\"]), interpolation)\n",
    "from sklearn import metrics\n",
    "print(\"Average Precision:\", metrics.auc(list(data[\"Recall\"]), interpolation))"
   ]
  },
  {
   "cell_type": "code",
   "execution_count": null,
   "metadata": {},
   "outputs": [],
   "source": [
    "data"
   ]
  },
  {
   "cell_type": "code",
   "execution_count": null,
   "metadata": {},
   "outputs": [],
   "source": [
    "a = np.array([1,2,3])\n",
    "a[a > 2]"
   ]
  },
  {
   "cell_type": "code",
   "execution_count": null,
   "metadata": {},
   "outputs": [],
   "source": [
    "# Calculate Intersection over Union of two images\n",
    "def iou(im1, im2):\n",
    "    sums = im1 + im2\n",
    "    intersection = len(sums[sums == 2])\n",
    "    union = len(sums[sums >= 1])\n",
    "    if union == 0:\n",
    "        return 0\n",
    "    return intersection / union"
   ]
  },
  {
   "cell_type": "code",
   "execution_count": null,
   "metadata": {},
   "outputs": [],
   "source": [
    "iou(mask.squeeze(), gt)"
   ]
  },
  {
   "cell_type": "code",
   "execution_count": null,
   "metadata": {},
   "outputs": [],
   "source": [
    "def test(model, num_tests, threshold=0.5):\n",
    "    # remove extensions\n",
    "    total_iou = 0\n",
    "    all_data = {\"imageName\": [], \"confidenceScore\": [], \n",
    "                \"iou\": []}\n",
    "    total_num_GT = 0\n",
    "    for i in tqdm(range(90000, 90000+num_tests)):\n",
    "        # load and pad images\n",
    "        test_image_path = \"/home/ec2-user/SageMaker/benchmarks/dataset/X/train_{}.png\".format(i)\n",
    "        test_image = skimage.io.imread(test_image_path)\n",
    "        test_image = test_image.reshape(test_image.shape[0], test_image.shape[1], 1)\n",
    "        test_gt_path = \"/home/ec2-user/SageMaker/benchmarks/dataset/Y/train_mask_{}.png\".format(i)\n",
    "        test_gt = skimage.io.imread(test_gt_path)\n",
    "        r = model.detect([test_image])[0]\n",
    "        if r['masks'].shape[-1] > 0 and r['masks'].shape[0] == r['masks'].shape[1]:\n",
    "            prediction = r['masks'][:, :, 0]\n",
    "        else:\n",
    "            num_tests -= 1\n",
    "            continue\n",
    "        # find prediction boundingboxs\n",
    "        prediction = (prediction > threshold).astype(np.uint8)\n",
    "        curr_iou = iou(prediction, test_gt)\n",
    "        \n",
    "        # constructing database\n",
    "        if curr_iou == 0:\n",
    "            num_tests -= 1\n",
    "            continue\n",
    "        all_data[\"imageName\"] += [i] \n",
    "        if len(r['scores']) > 0:\n",
    "            all_data[\"confidenceScore\"] += [r['scores'][0]]\n",
    "        else:\n",
    "            all_data[\"confidenceScore\"] += [0]\n",
    "        all_data[\"iou\"].append(curr_iou)\n",
    "        total_iou += curr_iou\n",
    "    total_iou /= num_tests\n",
    "    return total_iou, all_data"
   ]
  },
  {
   "cell_type": "code",
   "execution_count": null,
   "metadata": {},
   "outputs": [],
   "source": [
    "result, all_data = test(model, 1000, threshold=0.3)\n",
    "print(\"Mean IoU: \", result)"
   ]
  },
  {
   "cell_type": "code",
   "execution_count": null,
   "metadata": {},
   "outputs": [],
   "source": [
    "iou_threshold = 50 / 100\n",
    "\n",
    "data = pd.DataFrame(all_data)\n",
    "data[\"TP\"] = (data[\"iou\"] >= iou_threshold) * 1\n",
    "data[\"FP\"] = (data[\"iou\"] < iou_threshold) * 1\n",
    "data = data.sort_values(by=[\"confidenceScore\", \"TP\"], ascending=[False, False])\n",
    "data[\"Acc TP\"] = np.cumsum(data[\"TP\"])\n",
    "data[\"Acc FP\"] = np.cumsum(data[\"FP\"])\n",
    "data[\"Precision\"] = data[\"Acc TP\"] / (data[\"Acc TP\"] + data[\"Acc FP\"])\n",
    "data[\"Recall\"] = data[\"Acc TP\"] / 10\n",
    "plt.plot(list(data[\"Recall\"]), list(data[\"Precision\"]))\n",
    "interpolation = list(data[\"Precision\"])\n",
    "for i in reversed(range(len(interpolation) - 1)):\n",
    "    if interpolation[i+1]>interpolation[i]:\n",
    "        interpolation[i]=interpolation[i+1]\n",
    "# plt.figsize((15, 10))\n",
    "plt.plot(list(data[\"Recall\"]), interpolation)\n",
    "from sklearn import metrics\n",
    "print(\"Average Precision:\", metrics.auc(list(data[\"Recall\"]), interpolation))"
   ]
  },
  {
   "cell_type": "code",
   "execution_count": null,
   "metadata": {},
   "outputs": [],
   "source": [
    "iou_threshold = 60 / 100\n",
    "\n",
    "data = pd.DataFrame(all_data)\n",
    "data[\"TP\"] = (data[\"iou\"] >= iou_threshold) * 1\n",
    "data[\"FP\"] = (data[\"iou\"] < iou_threshold) * 1\n",
    "data = data.sort_values(by=[\"confidenceScore\", \"TP\"], ascending=[False, False])\n",
    "data[\"Acc TP\"] = np.cumsum(data[\"TP\"])\n",
    "data[\"Acc FP\"] = np.cumsum(data[\"FP\"])\n",
    "data[\"Precision\"] = data[\"Acc TP\"] / (data[\"Acc TP\"] + data[\"Acc FP\"])\n",
    "data[\"Recall\"] = data[\"Acc TP\"] / 10\n",
    "plt.plot(list(data[\"Recall\"]), list(data[\"Precision\"]))\n",
    "interpolation = list(data[\"Precision\"])\n",
    "for i in reversed(range(len(interpolation) - 1)):\n",
    "    if interpolation[i+1]>interpolation[i]:\n",
    "        interpolation[i]=interpolation[i+1]\n",
    "# plt.figsize((15, 10))\n",
    "plt.plot(list(data[\"Recall\"]), interpolation)\n",
    "from sklearn import metrics\n",
    "print(\"Average Precision:\", metrics.auc(list(data[\"Recall\"]), interpolation))"
   ]
  },
  {
   "cell_type": "code",
   "execution_count": null,
   "metadata": {},
   "outputs": [],
   "source": [
    "test_gt_path = \"/home/ec2-user/SageMaker/benchmarks/dataset/Y/train_mask_{}.png\".format(5)\n",
    "test_gt = skimage.io.imread(test_gt_path)"
   ]
  },
  {
   "cell_type": "code",
   "execution_count": null,
   "metadata": {},
   "outputs": [],
   "source": [
    "np.max(mask.squeeze().astype(np.uint8))"
   ]
  },
  {
   "cell_type": "code",
   "execution_count": null,
   "metadata": {},
   "outputs": [],
   "source": [
    "plt.imshow(test_gt)"
   ]
  },
  {
   "cell_type": "code",
   "execution_count": null,
   "metadata": {},
   "outputs": [],
   "source": [
    "test_ind = 90005\n",
    "test_image_path = \"/home/ec2-user/SageMaker/benchmarks/dataset/X/train_{}.png\".format(test_ind)\n",
    "test_image = skimage.io.imread(test_image_path)\n",
    "test_image = test_image.reshape(test_image.shape[0], test_image.shape[1], 1)\n",
    "r = model.detect([test_image], verbose=1)[0]"
   ]
  },
  {
   "cell_type": "code",
   "execution_count": null,
   "metadata": {},
   "outputs": [],
   "source": [
    "mask= r['masks'][0]"
   ]
  },
  {
   "cell_type": "code",
   "execution_count": null,
   "metadata": {},
   "outputs": [],
   "source": [
    "mask.shape[0]"
   ]
  },
  {
   "cell_type": "code",
   "execution_count": null,
   "metadata": {},
   "outputs": [],
   "source": [
    "data"
   ]
  },
  {
   "cell_type": "code",
   "execution_count": null,
   "metadata": {},
   "outputs": [],
   "source": [
    "import time\n",
    "a = time.time()\n",
    "for i in range(10):\n",
    "    r = model.detect([test_image])[0]\n",
    "b = time.time()\n",
    "print(b - a)"
   ]
  },
  {
   "cell_type": "code",
   "execution_count": null,
   "metadata": {},
   "outputs": [],
   "source": []
  }
 ],
 "metadata": {
  "kernelspec": {
   "display_name": "conda_tensorflow_p36",
   "language": "python",
   "name": "conda_tensorflow_p36"
  },
  "language_info": {
   "codemirror_mode": {
    "name": "ipython",
    "version": 3
   },
   "file_extension": ".py",
   "mimetype": "text/x-python",
   "name": "python",
   "nbconvert_exporter": "python",
   "pygments_lexer": "ipython3",
   "version": "3.6.10"
  }
 },
 "nbformat": 4,
 "nbformat_minor": 4
}
