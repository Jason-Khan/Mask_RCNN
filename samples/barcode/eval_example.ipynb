{
 "cells": [
  {
   "cell_type": "code",
   "execution_count": 1,
   "metadata": {},
   "outputs": [],
   "source": [
    "# !pip install shapely"
   ]
  },
  {
   "cell_type": "code",
   "execution_count": 2,
   "metadata": {},
   "outputs": [],
   "source": [
    "import cv2\n",
    "from tqdm.notebook import tqdm\n",
    "from metrics import * \n",
    "from copy import deepcopy\n",
    "# Usage:\n",
    "# evaluate(predictions, ground_truths, findBoundingBoxs=findBoundingboxs, threshold=0.5, iou_threshold=0.5):\n",
    "\"\"\"\n",
    "Given predictions and ground truths, calculate AP, Precision and Recall.\n",
    ":param predictions: An array of prediction images.\n",
    ":param ground_truths: An array of ground truth images.\n",
    ":param findBoundingBoxes: A method that takes in an image, and return \n",
    "                          its bounding boxes and their corresponding confidence scores.\n",
    ":param threshold: Convert image to a binary image using this threshold.\n",
    ":param iou_threshold: IOU threshold for classifying a True Positive.\n",
    ":return AP, precision, recall, and calculation table of dataset.\n",
    "\"\"\"\n",
    "pass"
   ]
  },
  {
   "cell_type": "code",
   "execution_count": 3,
   "metadata": {},
   "outputs": [
    {
     "data": {
      "application/vnd.jupyter.widget-view+json": {
       "model_id": "e9575087f6dd4b30bba93ee72cab86a1",
       "version_major": 2,
       "version_minor": 0
      },
      "text/plain": [
       "HBox(children=(FloatProgress(value=0.0, max=10000.0), HTML(value='')))"
      ]
     },
     "metadata": {},
     "output_type": "display_data"
    },
    {
     "name": "stdout",
     "output_type": "stream",
     "text": [
      "\n"
     ]
    }
   ],
   "source": [
    "base_dir = \"/home/ec2-user/SageMaker/benchmarks/dataset/ynet/\"\n",
    "predictions = []\n",
    "ground_truths = []\n",
    "for i in tqdm(range(90000, 100000)):\n",
    "    prediction_path = \"prediction/predict_{}.png\".format(i)\n",
    "    train_mask_path = \"Y/train_mask_{}.png\".format(i)\n",
    "    prediction = cv2.imread(base_dir + prediction_path)\n",
    "    gt = cv2.imread(base_dir + train_mask_path)\n",
    "    predictions.append(prediction)\n",
    "    ground_truths.append(gt)"
   ]
  },
  {
   "cell_type": "code",
   "execution_count": 5,
   "metadata": {
    "collapsed": true
   },
   "outputs": [
    {
     "data": {
      "application/vnd.jupyter.widget-view+json": {
       "model_id": "f8217c20f0d840789d06b6c1675c8eb2",
       "version_major": 2,
       "version_minor": 0
      },
      "text/plain": [
       "HBox(children=(FloatProgress(value=0.0, max=10000.0), HTML(value='')))"
      ]
     },
     "metadata": {},
     "output_type": "display_data"
    },
    {
     "name": "stderr",
     "output_type": "stream",
     "text": [
      "/home/ec2-user/SageMaker/benchmarks/Mask_RCNN/samples/barcode/metrics.py:74: RuntimeWarning: invalid value encountered in true_divide\n",
      "  return im / im.max()\n",
      "/home/ec2-user/SageMaker/benchmarks/Mask_RCNN/samples/barcode/metrics.py:93: RuntimeWarning: invalid value encountered in greater\n",
      "  prediction = (normalize_to_gray(prediction) > threshold).astype(np.uint8)\n",
      "/home/ec2-user/SageMaker/benchmarks/Mask_RCNN/samples/barcode/metrics.py:94: RuntimeWarning: invalid value encountered in greater\n",
      "  ground_truth = (normalize_to_gray(ground_truth) > threshold).astype(np.uint8)\n"
     ]
    },
    {
     "name": "stdout",
     "output_type": "stream",
     "text": [
      "\n",
      "At IOU 80.0\n",
      "AP: 0.015778588624768324\n",
      "Precision: 0.142253807106599\n",
      "Recall: 0.11197815060476005\n"
     ]
    },
    {
     "data": {
      "image/png": "[encoded data removed]",
      "text/plain": [
       "<Figure size 432x288 with 1 Axes>"
      ]
     },
     "metadata": {
      "needs_background": "light"
     },
     "output_type": "display_data"
    }
   ],
   "source": [
    "# example\n",
    "\n",
    "AP, precision, recall, data = evaluate(predictions, ground_truths, \n",
    "                                       findBoundingBoxs=findBoundingboxs, threshold=0.5, iou_threshold=0.8)"
   ]
  },
  {
   "cell_type": "code",
   "execution_count": 24,
   "metadata": {
    "collapsed": true
   },
   "outputs": [
    {
     "name": "stdout",
     "output_type": "stream",
     "text": [
      "At IOU 90.0\n",
      "AP: 2.126053781895792e-05\n",
      "Precision: 0.008064516129032258\n",
      "Recall: 0.003809873539739735\n"
     ]
    },
    {
     "data": {
      "image/png": "[encoded data removed]",
      "text/plain": [
       "<Figure size 432x288 with 1 Axes>"
      ]
     },
     "metadata": {
      "needs_background": "light"
     },
     "output_type": "display_data"
    }
   ],
   "source": [
    "threshold=0.5\n",
    "iou_threshold=0.9\n",
    "data['total_num_GT'] = total_num_GT\n",
    "data[\"TP\"] = (data[\"iou\"] >= iou_threshold) * 1\n",
    "data[\"FP\"] = (data[\"iou\"] < iou_threshold) * 1\n",
    "data = data.sort_values(by=[\"confidenceScore\"], ascending=[False])\n",
    "data[\"Acc TP\"] = np.cumsum(data[\"TP\"])\n",
    "data[\"Acc FP\"] = np.cumsum(data[\"FP\"])\n",
    "data[\"Precision\"] = data[\"Acc TP\"] / (data[\"Acc TP\"] + data[\"Acc FP\"])\n",
    "data[\"Recall\"] = data[\"Acc TP\"] / data['total_num_GT']\n",
    "plt.plot(list(data[\"Recall\"]), list(data[\"Precision\"]))\n",
    "interpolation = list(data[\"Precision\"])\n",
    "for i in reversed(range(len(interpolation) - 1)):\n",
    "    if interpolation[i+1]>interpolation[i]:\n",
    "        interpolation[i]=interpolation[i+1]\n",
    "plt.plot(list(data[\"Recall\"]), interpolation)\n",
    "AP = metrics.auc(list(data[\"Recall\"]), interpolation)\n",
    "precision = max(list(data[\"Precision\"]))\n",
    "recall = max(list(data[\"Recall\"]))\n",
    "print(\"At IOU\", iou_threshold * 100)\n",
    "print(\"AP:\", AP)\n",
    "print(\"Precision:\", precision)\n",
    "print(\"Recall:\", recall)"
   ]
  },
  {
   "cell_type": "code",
   "execution_count": 22,
   "metadata": {
    "scrolled": true
   },
   "outputs": [],
   "source": [
    "import pickle\n",
    "with open(\"synthetic_eval.pickle\", \"wb\") as f:\n",
    "    pickle.dump(data, f)"
   ]
  },
  {
   "cell_type": "code",
   "execution_count": 8,
   "metadata": {},
   "outputs": [],
   "source": [
    "cv=cv2\n",
    "def findBoundingboxss(image, correction_margin=0):\n",
    "    #print('A')\n",
    "    ##################### no trans#############################\n",
    "    #contours, _ = cv.findContours(image.copy(), cv.RETR_EXTERNAL, cv.CHAIN_APPROX_SIMPLE)\n",
    "    ##################### morph trans #########################\n",
    "    kernel = cv.getStructuringElement(cv.MORPH_RECT, (5, 5))\n",
    "    closed = cv.morphologyEx(image, cv.MORPH_OPEN, kernel)\n",
    "    closed = cv.erode(closed, None, iterations = 3)\n",
    "    contours, _ = cv.findContours(closed.copy(), cv.RETR_EXTERNAL, cv.CHAIN_APPROX_SIMPLE)\n",
    "    ##################### Watershed ############################\n",
    "    #_, imgray = cv.threshold(closed, 0, 255, cv.THRESH_BINARY)\n",
    "#     closed = image\n",
    "#     #t=time.time()\n",
    "#     Distance = ndimage.distance_transform_edt(closed)\n",
    "#     D = ((Distance - Distance.min()) / (Distance.max() - Distance.min()) * 255).astype(np.uint8)\n",
    "#     _, D = cv.threshold(D, 0, 255, cv.THRESH_BINARY)\n",
    "#     localMax = peak_local_max(D, indices=False, min_distance=1, labels=closed)\n",
    "#     markers = ndimage.label(localMax, structure=np.ones((3, 3)))[0]\n",
    "#     labels = watershed(-D, markers, mask=closed)\n",
    "#     boundingBoxs = []\n",
    "#     scores = []\n",
    "#     for i in range(1, labels.max()+1):\n",
    "#         mask_temp = np.where(labels==i, np.uint8(255), np.uint8(0))\n",
    "#         contours, _ = cv.findContours(mask_temp.copy(), cv.RETR_TREE, cv.CHAIN_APPROX_NONE)\n",
    "#         for contour in contours:\n",
    "#             rect = cv.minAreaRect(contour)\n",
    "#             poly = cv.boxPoints(rect)\n",
    "#             box = np.int0(poly)\n",
    "#             boundingBoxs.append(box)\n",
    "#             scores.append(get_confidence_score(image, box))\n",
    "#     #print(t-time.time())\n",
    "#     return boundingBoxs, scores\n",
    "# comment up to watershed and uncomment bellow as it is\n",
    "    #contours, _ = cv.findContours(closed.copy(), cv.RETR_EXTERNAL, cv.CHAIN_APPROX_SIMPLE)\n",
    "    boundingBoxs = []\n",
    "    scores = []\n",
    "    for contour in contours:\n",
    "        rect = cv.minAreaRect(contour)\n",
    "        ############ polygone bboxes ##############\n",
    "        poly = cv.boxPoints(rect)\n",
    "        box = np.int0(poly)\n",
    "        #boundingBoxs.append(box)\n",
    "        ############ Up Right bboxes ##############\n",
    "        x, y, w, h = cv.boundingRect(contour)\n",
    "        temp = [y - correction_margin, x - correction_margin, y + h + correction_margin, x + w + correction_margin]\n",
    "        boundingBoxs.append(temp)\n",
    "        scores.append(get_confidence_score_(image, box))    \n",
    "    return boundingBoxs, scores\n",
    "\n",
    "def normalize_to_gray(im):\n",
    "    if len(im.shape) > 2:\n",
    "        im = cv.cvtColor(im, cv.COLOR_BGR2GRAY)\n",
    "        _, im = cv.threshold(((im*255).astype(np.uint8)).copy(),0 ,255 ,cv.THRESH_OTSU+cv.THRESH_BINARY)\n",
    "    im = im / im.max()\n",
    "    return im \n",
    "\n",
    "def calc_iou_individual(pred_box, gt_box):\n",
    "\n",
    "    x1_t, y1_t, x2_t, y2_t = gt_box\n",
    "    x1_p, y1_p, x2_p, y2_p = pred_box\n",
    "\n",
    "#     if (x1_p > x2_p) or (y1_p > y2_p):\n",
    "#         raise AssertionError(\n",
    "#             \"Prediction box is malformed? pred box: {}\".format(pred_box))\n",
    "#     if (x1_t > x2_t) or (y1_t > y2_t):\n",
    "#         raise AssertionError(\n",
    "#             \"Ground Truth box is malformed? true box: {}\".format(gt_box))\n",
    "\n",
    "    if (x2_t < x1_p or x2_p < x1_t or y2_t < y1_p or y2_p < y1_t):\n",
    "        return 0.0\n",
    "\n",
    "    far_x = np.min([x2_t, x2_p])\n",
    "    near_x = np.max([x1_t, x1_p])\n",
    "    far_y = np.min([y2_t, y2_p])\n",
    "    near_y = np.max([y1_t, y1_p])\n",
    "\n",
    "    inter_area = (far_x - near_x + 1) * (far_y - near_y + 1)\n",
    "    true_box_area = (x2_t - x1_t + 1) * (y2_t - y1_t + 1)\n",
    "    pred_box_area = (x2_p - x1_p + 1) * (y2_p - y1_p + 1)\n",
    "    iou = inter_area / (true_box_area + pred_box_area - inter_area)\n",
    "    return iou\n",
    "\n",
    "def get_single_image_results(gt_boxes, pred_boxes, iou_thr):\n",
    "\n",
    "    all_pred_indices = range(len(pred_boxes))\n",
    "    all_gt_indices = range(len(gt_boxes))\n",
    "    if len(all_pred_indices) == 0:\n",
    "        #print('A')\n",
    "        tp = 0\n",
    "        fp = 0\n",
    "        fn = len(gt_boxes)\n",
    "        #pp.pprint({'true_pos': tp, 'false_pos': fp, 'false_neg': fn})\n",
    "        return {'true_pos': tp, 'false_pos': fp, 'false_neg': fn}\n",
    "    if len(all_gt_indices) == 0:\n",
    "        #print('B')\n",
    "        tp = 0\n",
    "        fp = len(pred_boxes)\n",
    "        fn = 0\n",
    "        #pp.pprint({'true_pos': tp, 'false_pos': fp, 'false_neg': fn})\n",
    "        return {'true_pos': tp, 'false_pos': fp, 'false_neg': fn}\n",
    "\n",
    "    gt_idx_thr = []\n",
    "    pred_idx_thr = []\n",
    "    ious = []\n",
    "    for ipb, pred_box in enumerate(pred_boxes):\n",
    "        for igb, gt_box in enumerate(gt_boxes):\n",
    "            iou = calc_iou_individual(pred_box, gt_box)\n",
    "            if iou > iou_thr:\n",
    "                gt_idx_thr.append(igb)\n",
    "                pred_idx_thr.append(ipb)\n",
    "                ious.append(iou)\n",
    "            #print(iou)\n",
    "    args_desc = np.argsort(ious)[::-1]\n",
    "    if len(args_desc) == 0:\n",
    "        #print('C')\n",
    "        # No matches\n",
    "        tp = 0\n",
    "        fp = len(pred_boxes)\n",
    "        fn = len(gt_boxes)\n",
    "    else:\n",
    "        #print('D')\n",
    "        gt_match_idx = []\n",
    "        pred_match_idx = []\n",
    "        for idx in args_desc:\n",
    "            gt_idx = gt_idx_thr[idx]\n",
    "            pr_idx = pred_idx_thr[idx]\n",
    "            # If the boxes are unmatched, add them to matches\n",
    "            if (gt_idx not in gt_match_idx) and (pr_idx not in pred_match_idx):\n",
    "                gt_match_idx.append(gt_idx)\n",
    "                pred_match_idx.append(pr_idx)\n",
    "        tp = len(gt_match_idx)\n",
    "        fp = len(pred_boxes) - len(pred_match_idx)\n",
    "        fn = len(gt_boxes) - len(gt_match_idx)\n",
    "    #pp.pprint({'true_pos': tp, 'false_pos': fp, 'false_neg': fn})\n",
    "    return {'true_pos': tp, 'false_pos': fp, 'false_neg': fn}\n",
    "\n",
    "\n",
    "def get_confidence_score_(im_mask, bb):\n",
    "    cnt = 0\n",
    "    pixel_acc = 0\n",
    "    im_w = im_mask.shape[0]\n",
    "    im_h = im_mask.shape[1]\n",
    "    poly = Polygon(bb)\n",
    "    minx, miny, maxx, maxy = list(np.int_(poly.bounds))\n",
    "    for row in range(minx, min( 400, maxx)):\n",
    "        for col in range(miny, min(400, maxy)):\n",
    "            p_temp = Point(row, col)\n",
    "            if p_temp.within(poly):\n",
    "                cnt += 1\n",
    "                pixel_acc = pixel_acc + im_mask[col, row]#/im_mask.max()\n",
    "    if cnt == 0:\n",
    "        return 0\n",
    "    avg_pix_value = pixel_acc/cnt\n",
    "    return avg_pix_value"
   ]
  },
  {
   "cell_type": "code",
   "execution_count": 9,
   "metadata": {},
   "outputs": [],
   "source": [
    "def result_dict_pred(predictions, findBoundingBoxss=findBoundingboxss,  threshold=0.5, correction_margin=0):\n",
    "    k = 0\n",
    "    pred_boxs = {}\n",
    "    for prediction in tqdm(predictions):\n",
    "        if prediction is None:\n",
    "            k+=1\n",
    "            continue\n",
    "        prediction = (normalize_to_gray(prediction) > threshold).astype(np.uint8)\n",
    "        bbs_pred, confidences = findBoundingBoxss(prediction, correction_margin)\n",
    "        # Pred Boxes dict\n",
    "        pred_boxs[\"img_{:d}\".format(k)]= {\"boxes\": bbs_pred, \"scores\": confidences}\n",
    "        k+=1\n",
    "    return pred_boxs\n",
    "\n",
    "def gt_extract(gt_dict):\n",
    "    gt_ex = {}\n",
    "    for key in gt_dict:\n",
    "        gt_dict[key] = gt_dict[key]['boxes']\n",
    "    return gt_ex\n"
   ]
  },
  {
   "cell_type": "code",
   "execution_count": 10,
   "metadata": {},
   "outputs": [
    {
     "data": {
      "application/vnd.jupyter.widget-view+json": {
       "model_id": "e83f25111bce4f269ce5d1c1f509f0b1",
       "version_major": 2,
       "version_minor": 0
      },
      "text/plain": [
       "HBox(children=(FloatProgress(value=0.0, max=10000.0), HTML(value='')))"
      ]
     },
     "metadata": {},
     "output_type": "display_data"
    },
    {
     "name": "stderr",
     "output_type": "stream",
     "text": [
      "/home/ec2-user/anaconda3/envs/pytorch_p36/lib/python3.6/site-packages/ipykernel/__main__.py:55: RuntimeWarning: invalid value encountered in true_divide\n",
      "/home/ec2-user/anaconda3/envs/pytorch_p36/lib/python3.6/site-packages/ipykernel/__main__.py:8: RuntimeWarning: invalid value encountered in greater\n"
     ]
    },
    {
     "name": "stdout",
     "output_type": "stream",
     "text": [
      "\n"
     ]
    }
   ],
   "source": [
    "pred_boxes_dict = result_dict_pred(predictions, \n",
    "                                   findBoundingBoxss=findBoundingboxss, threshold=0.5, correction_margin=4)"
   ]
  },
  {
   "cell_type": "code",
   "execution_count": 11,
   "metadata": {},
   "outputs": [
    {
     "data": {
      "application/vnd.jupyter.widget-view+json": {
       "model_id": "0589daf28208454095548b3c58e5219e",
       "version_major": 2,
       "version_minor": 0
      },
      "text/plain": [
       "HBox(children=(FloatProgress(value=0.0, max=10000.0), HTML(value='')))"
      ]
     },
     "metadata": {},
     "output_type": "display_data"
    },
    {
     "name": "stderr",
     "output_type": "stream",
     "text": [
      "/home/ec2-user/anaconda3/envs/pytorch_p36/lib/python3.6/site-packages/ipykernel/__main__.py:55: RuntimeWarning: invalid value encountered in true_divide\n",
      "/home/ec2-user/anaconda3/envs/pytorch_p36/lib/python3.6/site-packages/ipykernel/__main__.py:8: RuntimeWarning: invalid value encountered in greater\n"
     ]
    },
    {
     "name": "stdout",
     "output_type": "stream",
     "text": [
      "\n"
     ]
    }
   ],
   "source": [
    "gt_boxes_dict = result_dict_pred(ground_truths,\n",
    "                                   findBoundingBoxss=findBoundingboxss, threshold=0.5, correction_margin=4)"
   ]
  },
  {
   "cell_type": "code",
   "execution_count": 12,
   "metadata": {},
   "outputs": [],
   "source": [
    "copy_gt = gt_extract(gt_boxes_dict)"
   ]
  },
  {
   "cell_type": "code",
   "execution_count": 13,
   "metadata": {},
   "outputs": [],
   "source": [
    "def get_model_scores_map(pred_boxes):\n",
    "\n",
    "    model_scores_map = {}\n",
    "    for img_id, val in pred_boxes.items():\n",
    "        for score in val['scores']:\n",
    "            if score not in model_scores_map.keys():\n",
    "                model_scores_map[score] = [img_id]\n",
    "            else:\n",
    "                model_scores_map[score].append(img_id)\n",
    "    return model_scores_map\n",
    "\n",
    "def get_avg_precision_at_iou3(gt_boxes, pred_boxes, iou_thr=0.5):\n",
    "\n",
    "    model_scores_map = get_model_scores_map(pred_boxes)\n",
    "    sorted_model_scores = sorted(model_scores_map.keys())\n",
    "\n",
    "    # Sort the predicted boxes in descending order (lowest scoring boxes first):\n",
    "    for img_id in pred_boxes.keys():\n",
    "        arg_sort = np.argsort(pred_boxes[img_id]['scores'])\n",
    "        pred_boxes[img_id]['scores'] = np.array(pred_boxes[img_id]['scores'])[arg_sort].tolist()\n",
    "        pred_boxes[img_id]['boxes'] = np.array(pred_boxes[img_id]['boxes'])[arg_sort].tolist()\n",
    "\n",
    "    pred_boxes_pruned = deepcopy(pred_boxes)\n",
    "\n",
    "    precisions = []\n",
    "    recalls = []\n",
    "    model_thrs = []\n",
    "    img_results = {}\n",
    "    # Loop over model score thresholds and calculate precision, recall\n",
    "    for ithr, model_score_thr in tqdm(enumerate(sorted_model_scores[:-1]), total=len(sorted_model_scores)):\n",
    "        # On first iteration, define img_results for the first time:\n",
    "        img_ids = gt_boxes.keys() if ithr == 0 else model_scores_map[model_score_thr]\n",
    "        for img_id in img_ids:\n",
    "            gt_boxes_img = gt_boxes[img_id]\n",
    "            if img_id in pred_boxes_pruned:\n",
    "                box_scores = pred_boxes_pruned[img_id]['scores']\n",
    "            else:\n",
    "                box_scores = []\n",
    "                pred_boxes_pruned[img_id] = {}\n",
    "                pred_boxes_pruned[img_id]['scores'] = []\n",
    "                pred_boxes_pruned[img_id]['boxes'] = []\n",
    "            start_idx = 0\n",
    "            for score in box_scores:\n",
    "                if score <= model_score_thr:\n",
    "                    pred_boxes_pruned[img_id]\n",
    "                    start_idx += 1\n",
    "                else:\n",
    "                    break\n",
    "\n",
    "            # Remove boxes, scores of lower than threshold scores:\n",
    "            pred_boxes_pruned[img_id]['scores'] = pred_boxes_pruned[img_id]['scores'][start_idx:]\n",
    "            pred_boxes_pruned[img_id]['boxes'] = pred_boxes_pruned[img_id]['boxes'][start_idx:]\n",
    "\n",
    "            # Recalculate image results for this image\n",
    "            img_results[img_id] = get_single_image_results(\n",
    "                gt_boxes_img, pred_boxes_pruned[img_id]['boxes'], iou_thr)\n",
    "\n",
    "        prec, rec = calc_precision_recall(img_results)\n",
    "        precisions.append(prec)\n",
    "        recalls.append(rec)\n",
    "        model_thrs.append(model_score_thr)\n",
    "\n",
    "    precisions = np.array(precisions)\n",
    "    recalls = np.array(recalls)\n",
    "    prec_at_rec = []\n",
    "    for recall_level in np.linspace(0.0, 1.0, 11):\n",
    "        try:\n",
    "            args = np.argwhere(recalls >= recall_level).flatten()\n",
    "            prec = max(precisions[args])\n",
    "        except ValueError:\n",
    "            prec = 0.0\n",
    "        prec_at_rec.append(prec)\n",
    "    avg_prec = np.mean(prec_at_rec)\n",
    "\n",
    "    return {\n",
    "        'avg_prec': avg_prec,\n",
    "        'precisions': precisions,\n",
    "        'recalls': recalls,\n",
    "        'model_thrs': model_thrs}\n",
    "\n",
    "def calc_precision_recall(img_results):\n",
    "\n",
    "    true_pos = 0; false_pos = 0; false_neg = 0\n",
    "    for _, res in img_results.items():\n",
    "        true_pos += res['true_pos']\n",
    "        false_pos += res['false_pos']\n",
    "        false_neg += res['false_neg']\n",
    "\n",
    "    try:\n",
    "        precision = true_pos/(true_pos + false_pos)\n",
    "    except ZeroDivisionError:\n",
    "        precision = 0.0\n",
    "    try:\n",
    "        recall = true_pos/(true_pos + false_neg)\n",
    "    except ZeroDivisionError:\n",
    "        recall = 0.0\n",
    "\n",
    "    return (precision, recall)"
   ]
  },
  {
   "cell_type": "code",
   "execution_count": 14,
   "metadata": {},
   "outputs": [
    {
     "data": {
      "application/vnd.jupyter.widget-view+json": {
       "model_id": "de5f6a5bb3e4455b9a65340ba2351a08",
       "version_major": 2,
       "version_minor": 0
      },
      "text/plain": [
       "HBox(children=(FloatProgress(value=0.0, max=15162.0), HTML(value='')))"
      ]
     },
     "metadata": {},
     "output_type": "display_data"
    },
    {
     "name": "stdout",
     "output_type": "stream",
     "text": [
      "\n",
      "AP =  0.5994036277517627\n",
      "prec =  0.5766709366287394\n",
      "rec =  0.16264983422596277\n"
     ]
    }
   ],
   "source": [
    "results = get_avg_precision_at_iou3(gt_boxes_dict, pred_boxes_dict, iou_thr=0.5)\n",
    "ap = results['avg_prec']\n",
    "p = results['precisions']\n",
    "r = results ['recalls']\n",
    "\n",
    "print('AP = ', ap)\n",
    "print('prec = ', p[-1])\n",
    "print('rec = ', r[-1])"
   ]
  },
  {
   "cell_type": "code",
   "execution_count": 31,
   "metadata": {},
   "outputs": [
    {
     "data": {
      "application/vnd.jupyter.widget-view+json": {
       "model_id": "7258a4423d9d459683e7c64881f9dd72",
       "version_major": 2,
       "version_minor": 0
      },
      "text/plain": [
       "HBox(children=(FloatProgress(value=0.0, max=15162.0), HTML(value='')))"
      ]
     },
     "metadata": {},
     "output_type": "display_data"
    },
    {
     "name": "stdout",
     "output_type": "stream",
     "text": [
      "\n",
      "AP =  0.004076267802475709\n",
      "prec =  0.013337352121166454\n",
      "rec =  0.0037617954603417496\n"
     ]
    }
   ],
   "source": [
    "results = get_avg_precision_at_iou3(gt_boxes_dict, pred_boxes_dict, iou_thr=0.9)\n",
    "ap = results['avg_prec']\n",
    "p = results['precisions']\n",
    "r = results ['recalls']\n",
    "\n",
    "print('AP = ', ap)\n",
    "print('prec = ', p[-1])\n",
    "print('rec = ', r[-1])"
   ]
  },
  {
   "cell_type": "code",
   "execution_count": 30,
   "metadata": {},
   "outputs": [
    {
     "data": {
      "image/png": "[encoded data removed]",
      "text/plain": [
       "<Figure size 1080x1080 with 2 Axes>"
      ]
     },
     "metadata": {},
     "output_type": "display_data"
    }
   ],
   "source": [
    "# visual check \n",
    "target_image_idx = 367#np.random.randint(start_idx, end_idx)\n",
    "#pp.pprint(pred_boxes_dict['img_{:d}'.format(target_image_idx)])\n",
    "pred_bboxes_coord = pred_boxes_dict['img_{:d}'.format(target_image_idx)]['boxes']\n",
    "pred_bboxes_scores = pred_boxes_dict['img_{:d}'.format(target_image_idx)]['scores']\n",
    "gt_bboxes_coord = gt_boxes_dict['img_{:d}'.format(target_image_idx)]\n",
    "\n",
    "xx = (np.squeeze(ground_truths[target_image_idx]*255).astype(np.uint8)).copy()\n",
    "# xx = cv.cvtColor(xx, cv.COLOR_GRAY2RGB)\n",
    "xx_pred = (np.squeeze(predictions[target_image_idx]*255).astype(np.uint8)).copy()\n",
    "# xx_pred = cv.cvtColor(xx_pred, cv.COLOR_GRAY2RGB)\n",
    "for bbox_pred in pred_bboxes_coord:\n",
    "    cv.rectangle(xx, (bbox_pred[1], bbox_pred[0], bbox_pred[3]-bbox_pred[1], bbox_pred[2]-bbox_pred[0]), (255, 0, 0), 1)\n",
    "    cv.rectangle(xx_pred, (bbox_pred[1], bbox_pred[0], bbox_pred[3]-bbox_pred[1], bbox_pred[2]-bbox_pred[0]), (255, 0, 0), 1)\n",
    "for bbox_gt in gt_bboxes_coord:\n",
    "    cv.rectangle(xx, (bbox_gt[1], bbox_gt[0], bbox_gt[3]-bbox_gt[1], bbox_gt[2]-bbox_gt[0]), (0, 255, 0), 1)\n",
    "    cv.rectangle(xx_pred, (bbox_gt[1], bbox_gt[0], bbox_gt[3]-bbox_gt[1], bbox_gt[2]-bbox_gt[0]), (0, 255, 0), 1)\n",
    "    \n",
    "show_images2(xx_pred, \n",
    "             xx, \n",
    "             title1='Mask RCNN pred mask, RED = Predictions - GREEN = Ground Truths', \n",
    "             title2 = 'gt mask, RED = Predictions - GREEN = Ground Truths')\n"
   ]
  },
  {
   "cell_type": "code",
   "execution_count": 18,
   "metadata": {},
   "outputs": [],
   "source": [
    "def show_images2 (Im1, Im2, title1=\"\", title2 = \"\"):\n",
    "    display_window_edge_size = 15\n",
    "    width = display_window_edge_size\n",
    "    height = display_window_edge_size\n",
    "    fig = plt.figure(figsize=[width,height])\n",
    "    axis1 = fig.add_subplot(121)\n",
    "    axis1.imshow(Im1, cmap=\"gray\")\n",
    "    axis1.set(xticks=[],yticks=[],title =title1)\n",
    "\n",
    "    axis2 = fig.add_subplot(122)\n",
    "    axis2.imshow(Im2, cmap=\"gray\")\n",
    "    axis2.set(xticks=[],yticks=[],title =title2)"
   ]
  },
  {
   "cell_type": "code",
   "execution_count": 38,
   "metadata": {},
   "outputs": [],
   "source": [
    "im = predictions[0]"
   ]
  },
  {
   "cell_type": "code",
   "execution_count": 64,
   "metadata": {},
   "outputs": [
    {
     "data": {
      "application/vnd.jupyter.widget-view+json": {
       "model_id": "5db506860b8043babaaa0797a6902e42",
       "version_major": 2,
       "version_minor": 0
      },
      "text/plain": [
       "HBox(children=(FloatProgress(value=0.0, max=10000.0), HTML(value='')))"
      ]
     },
     "metadata": {},
     "output_type": "display_data"
    },
    {
     "name": "stderr",
     "output_type": "stream",
     "text": [
      "/home/ec2-user/anaconda3/envs/pytorch_p36/lib/python3.6/site-packages/ipykernel/__main__.py:55: RuntimeWarning: invalid value encountered in true_divide\n",
      "/home/ec2-user/anaconda3/envs/pytorch_p36/lib/python3.6/site-packages/ipykernel/__main__.py:11: RuntimeWarning: invalid value encountered in less\n"
     ]
    },
    {
     "name": "stdout",
     "output_type": "stream",
     "text": [
      "\n"
     ]
    }
   ],
   "source": [
    "total_pixels = 0\n",
    "correct = 0\n",
    "for i in tqdm(range(len(predictions))):\n",
    "    if (predictions[i] is None) or ground_truths[i] is None:\n",
    "        continue\n",
    "    pred = normalize_to_gray(predictions[i])\n",
    "    gt = normalize_to_gray(ground_truths[i])\n",
    "    \n",
    "    diff = np.abs(pred - gt)\n",
    "    total_pixels += 400*400\n",
    "    correct += len(diff[np.where(diff < 0.5)])\n",
    "    \n",
    "\n",
    "\n",
    "                \n",
    "    "
   ]
  },
  {
   "cell_type": "code",
   "execution_count": 39,
   "metadata": {},
   "outputs": [],
   "source": [
    "im = normalize_to_gray(im)"
   ]
  },
  {
   "cell_type": "code",
   "execution_count": 65,
   "metadata": {},
   "outputs": [
    {
     "data": {
      "text/plain": [
       "0.9221246708451593"
      ]
     },
     "execution_count": 65,
     "metadata": {},
     "output_type": "execute_result"
    }
   ],
   "source": [
    "correct / total_pixels"
   ]
  },
  {
   "cell_type": "code",
   "execution_count": 63,
   "metadata": {},
   "outputs": [
    {
     "data": {
      "text/plain": [
       "158267"
      ]
     },
     "execution_count": 63,
     "metadata": {},
     "output_type": "execute_result"
    }
   ],
   "source": [
    "len(diff[np.where(diff < 0.5)])"
   ]
  },
  {
   "cell_type": "code",
   "execution_count": 60,
   "metadata": {},
   "outputs": [
    {
     "data": {
      "text/plain": [
       "(400, 400)"
      ]
     },
     "execution_count": 60,
     "metadata": {},
     "output_type": "execute_result"
    }
   ],
   "source": [
    "diff.shape"
   ]
  },
  {
   "cell_type": "code",
   "execution_count": null,
   "metadata": {},
   "outputs": [],
   "source": []
  }
 ],
 "metadata": {
  "kernelspec": {
   "display_name": "conda_pytorch_p36",
   "language": "python",
   "name": "conda_pytorch_p36"
  },
  "language_info": {
   "codemirror_mode": {
    "name": "ipython",
    "version": 3
   },
   "file_extension": ".py",
   "mimetype": "text/x-python",
   "name": "python",
   "nbconvert_exporter": "python",
   "pygments_lexer": "ipython3",
   "version": "3.6.10"
  }
 },
 "nbformat": 4,
 "nbformat_minor": 4
}
